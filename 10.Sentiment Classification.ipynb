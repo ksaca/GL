{
 "cells": [
  {
   "cell_type": "markdown",
   "metadata": {
    "colab_type": "text",
    "id": "rmCKikotAxGx"
   },
   "source": [
    "# Project:Sentiment Classification"
   ]
  },
  {
   "cell_type": "markdown",
   "metadata": {
    "colab_type": "text",
    "id": "YKmZ57MR4u49"
   },
   "source": [
    "### Pre read notes"
   ]
  },
  {
   "cell_type": "markdown",
   "metadata": {
    "colab_type": "text",
    "id": "68B2X7uWBPBk"
   },
   "source": [
    "1.   Keras in Tensforflow on Google colab (GC) has been used for this exercise.\n",
    "2. The project is for sentiment classification and this belongs to 'many to one' type of problem in NLP.\n",
    "3. Only the first 20 words in a review sentence is  used for model ( as given in the project instruction)\n",
    "4. As an approach, simple LSTM is first evaluated. Then Bidirectional LSTM is evaluated ( even though this is 'many to one' type problem). Then model is regularized to avoid overfitting."
   ]
  },
  {
   "cell_type": "code",
   "execution_count": null,
   "metadata": {
    "colab": {},
    "colab_type": "code",
    "id": "M9uT7_YY4lsU"
   },
   "outputs": [],
   "source": [
    "%tensorflow_version 2.x"
   ]
  },
  {
   "cell_type": "markdown",
   "metadata": {
    "colab_type": "text",
    "id": "jylx25VA41py"
   },
   "source": [
    "### Import Libraries"
   ]
  },
  {
   "cell_type": "code",
   "execution_count": 2,
   "metadata": {
    "colab": {
     "base_uri": "https://localhost:8080/",
     "height": 51
    },
    "colab_type": "code",
    "id": "X1VGrFXz43vo",
    "outputId": "afbcfb20-0a18-4f75-f80f-9f6d3cd6117a"
   },
   "outputs": [
    {
     "name": "stderr",
     "output_type": "stream",
     "text": [
      "Using TensorFlow backend.\n"
     ]
    },
    {
     "name": "stdout",
     "output_type": "stream",
     "text": [
      "Tensorflow version: 2.2.0-rc2\n"
     ]
    }
   ],
   "source": [
    "import warnings\n",
    "warnings.filterwarnings('ignore')\n",
    "\n",
    "# libraries for basic utility functions and array handling\n",
    "import os \n",
    "import time\n",
    "import matplotlib.pyplot as plt\n",
    "%matplotlib inline\n",
    "import numpy as np\n",
    "\n",
    "# libraries for preprocessing, model building, and evaluation \n",
    "\n",
    "from keras.datasets import imdb\n",
    "from keras.preprocessing.sequence import pad_sequences\n",
    "import tensorflow as tf\n",
    "from tensorflow.keras import Model\n",
    "from tensorflow.keras.models import Sequential,load_model\n",
    "from tensorflow.keras.layers import  Dense , Embedding,Input, LSTM, SpatialDropout1D,Bidirectional,GlobalMaxPool1D\n",
    "from tensorflow.keras.backend import clear_session\n",
    "from tensorflow.keras.optimizers import Adam\n",
    "from tensorflow.keras.regularizers import l2\n",
    "from tensorflow.keras.callbacks import ModelCheckpoint, EarlyStopping, ReduceLROnPlateau\n",
    "from tensorflow.keras.losses import binary_crossentropy\n",
    "from tensorflow import random\n",
    "from sklearn import metrics\n",
    "print ('Tensorflow version:',tf.__version__)"
   ]
  },
  {
   "cell_type": "markdown",
   "metadata": {
    "colab_type": "text",
    "id": "P3lXRIiWCgFX"
   },
   "source": [
    "## Set up drive and folder"
   ]
  },
  {
   "cell_type": "code",
   "execution_count": 3,
   "metadata": {
    "colab": {
     "base_uri": "https://localhost:8080/",
     "height": 122
    },
    "colab_type": "code",
    "id": "i6E2aXrHL1Pq",
    "outputId": "b4d273f6-99ec-44c5-d64e-addb3ed61a1c"
   },
   "outputs": [
    {
     "name": "stdout",
     "output_type": "stream",
     "text": [
      "Go to this URL in a browser: https://accounts.google.com/o/oauth2/auth?client_id=947318989803-6bn6qk8qdgf4n4g3pfee6491hc0brc4i.apps.googleusercontent.com&redirect_uri=urn%3aietf%3awg%3aoauth%3a2.0%3aoob&response_type=code&scope=email%20https%3a%2f%2fwww.googleapis.com%2fauth%2fdocs.test%20https%3a%2f%2fwww.googleapis.com%2fauth%2fdrive%20https%3a%2f%2fwww.googleapis.com%2fauth%2fdrive.photos.readonly%20https%3a%2f%2fwww.googleapis.com%2fauth%2fpeopleapi.readonly\n",
      "\n",
      "Enter your authorization code:\n",
      "··········\n",
      "Mounted at /content/drive\n"
     ]
    }
   ],
   "source": [
    "# mounting the drive on Google Colab\n",
    "from google.colab import drive\n",
    "drive.mount('/content/drive')\n",
    "\n",
    "# changing the directory to point to project folder\n",
    "os.chdir('/content/drive/My Drive/AIML/Projects/NLP')"
   ]
  },
  {
   "cell_type": "markdown",
   "metadata": {
    "colab_type": "text",
    "id": "N0qbMKcUCUbS"
   },
   "source": [
    "## Load the dataset , import train and test data/labels"
   ]
  },
  {
   "cell_type": "code",
   "execution_count": 4,
   "metadata": {
    "colab": {
     "base_uri": "https://localhost:8080/",
     "height": 51
    },
    "colab_type": "code",
    "id": "rEvEcPMw2U-N",
    "outputId": "21bb37ab-f089-4d60-8dc8-1d4f62f81331"
   },
   "outputs": [
    {
     "name": "stdout",
     "output_type": "stream",
     "text": [
      "Downloading data from https://s3.amazonaws.com/text-datasets/imdb.npz\n",
      "17465344/17464789 [==============================] - 0s 0us/step\n"
     ]
    }
   ],
   "source": [
    "#loading the imdb dataset with the parameter values set as below\n",
    "seed=9\n",
    "vocab_size = 10000\n",
    "\n",
    "(X_train, y_train), (X_test, y_test) = imdb.load_data(num_words=vocab_size,seed=seed,start_char=1,oov_char=2,index_from=3) "
   ]
  },
  {
   "cell_type": "code",
   "execution_count": 5,
   "metadata": {
    "colab": {
     "base_uri": "https://localhost:8080/",
     "height": 85
    },
    "colab_type": "code",
    "id": "5wLgq5cu9oJx",
    "outputId": "88b440e3-ce9d-454a-8c6d-2c798c69d6a5"
   },
   "outputs": [
    {
     "name": "stdout",
     "output_type": "stream",
     "text": [
      "X_train dataset shape: (25000,)\n",
      "y_train dataset shape: (25000,)\n",
      "X_test dataset shape: (25000,)\n",
      "y_test dataset shape: (25000,)\n"
     ]
    }
   ],
   "source": [
    "#check the shape of dataset loaded\n",
    "print('X_train dataset shape:',X_train.shape)\n",
    "print('y_train dataset shape:',y_train.shape)\n",
    "print('X_test dataset shape:',X_test.shape)\n",
    "print('y_test dataset shape:',y_test.shape)"
   ]
  },
  {
   "cell_type": "markdown",
   "metadata": {
    "colab_type": "text",
    "id": "B5qjP79wDK00"
   },
   "source": [
    "1.   There are 25000 records for training and 25000 records for testing\n",
    "2.   We will use the same dataset for training and testing respectively and will not do changes to the train test split ratio (50:50)\n",
    "\n"
   ]
  },
  {
   "cell_type": "code",
   "execution_count": 6,
   "metadata": {
    "colab": {
     "base_uri": "https://localhost:8080/",
     "height": 122
    },
    "colab_type": "code",
    "id": "rmv7PgEZA7Fn",
    "outputId": "bded7aa2-9424-4509-e9a8-a5c447e46f4b"
   },
   "outputs": [
    {
     "name": "stdout",
     "output_type": "stream",
     "text": [
      "[list([1, 43, 385, 46, 7, 6, 4949, 4435, 18, 14, 22, 12, 69, 72, 1104, 175, 1088, 2, 4, 277, 16, 38, 163, 15, 1674, 71, 2660, 180, 61, 393, 5, 12, 69, 72, 4864, 13, 1869, 1247, 15, 1058, 6804, 50, 26, 407, 49, 2, 21, 444, 545, 441, 4, 20, 1625, 1230, 5329, 28, 6, 580, 8, 4091, 103, 3247, 4, 7603, 39, 199, 1240, 3937, 11, 1478, 8674, 5, 80, 8024, 9544, 4, 1795, 7, 2709, 2, 11, 68, 102, 723, 9076, 9, 642, 17, 210, 13, 119, 15, 29, 70, 30, 38, 163, 11, 134, 3826, 1290, 5, 1999, 8, 157, 11, 2689, 3287, 40, 1657, 590, 13, 104, 15, 7915, 2, 144, 30, 397, 53, 157, 88, 29, 38, 7113, 1020, 5, 1728, 2814, 4393, 82, 69, 49, 966, 163, 388, 13, 545, 386, 12, 18, 148, 37, 43, 181, 8, 462, 40, 6, 5049, 190, 48, 335, 714, 4154, 92, 67, 14, 20, 48, 335, 6, 2, 4944, 92, 67, 14, 20, 5, 591, 24, 551, 51, 60, 48, 25, 104, 335, 31, 7, 148, 2731, 846, 92, 193, 129, 362, 8, 14, 20, 252, 25, 144, 387, 129, 2521, 140, 67, 14, 20, 43, 92, 106, 12, 19, 98, 12, 62, 97, 18, 49, 966, 2094, 388])\n",
      " list([1, 14, 9, 6, 184, 680, 20, 12, 127, 266, 638, 17, 35, 2228, 22, 19, 120, 4, 350, 567, 5, 2270, 1186, 21, 1732, 18, 112, 4481, 187, 3968, 105, 33, 325, 19, 257, 85, 17, 3630, 8, 35, 2, 2, 10, 10, 4, 20, 9, 35, 4785, 4375, 7, 2571, 7379, 11, 6, 196, 347, 7, 108, 15, 1000, 4, 9518, 7, 15, 325, 17, 1824, 2, 7294, 2, 236, 347, 9, 7162, 2808, 416, 6, 325, 2, 17, 29, 892, 27, 5130, 103, 2, 6, 196, 4951, 7, 588, 5, 3263, 587, 4, 9305, 2297, 7, 568, 5, 27, 5842, 980, 11, 6, 572, 2860, 136, 190, 8777, 9, 6, 52, 195, 284, 5, 3389, 195, 8, 1671, 14, 1019, 19, 6, 1767, 1137, 3244, 9, 695, 4, 2050, 430, 21, 19, 195, 3033, 7720, 120, 27, 2170, 605, 4187, 4, 20, 3321, 49, 114, 4067, 8, 5829, 8753, 121, 2005, 1342, 497, 8, 8324, 6, 1676, 597, 366, 112, 918, 8, 511, 429, 90, 10, 10, 4, 20, 47, 503, 20, 1242, 206, 151, 4, 1369, 7, 8777, 3244, 6, 1490, 2562, 4221, 5, 2, 5038, 202, 12, 35, 6, 1242, 2, 10, 10, 13, 202, 12, 6, 693, 18, 112, 6, 196, 416, 650, 83, 35, 298, 7027, 7, 1208, 2571, 1751, 7852, 2, 4581, 5, 2951, 5, 6, 20, 1600, 15, 16, 1688, 8, 5517, 141, 6099, 33, 15, 58, 10, 10, 110, 23, 4, 14, 1308, 6, 87, 2630, 15, 941, 395, 775, 7, 154, 102, 7, 4, 2226, 143, 4773, 3563, 7, 993, 5609])\n",
      " list([1, 466, 321, 4241, 18, 6742, 1749, 13, 16, 1017, 8, 30, 685, 34, 4, 22, 88, 474, 557, 15, 12, 122, 24, 79, 87, 857, 190, 13, 317, 4, 438, 340, 11, 4299, 7, 89, 52, 6742, 1749, 9, 10, 10, 50, 16, 57, 78, 116, 33, 32, 11, 4, 226, 22, 175, 686, 109, 9, 867, 4, 731, 388, 200, 2, 109, 628, 2, 5, 2, 109, 7974, 26, 3325, 2, 821, 5, 4691, 242, 688, 8, 4, 192, 15, 36, 71, 6, 515, 8, 30, 147, 113, 378, 10, 10, 4, 114, 7, 6742, 1749, 80, 8103, 25, 11, 4, 236, 840, 7, 4, 22, 5, 225, 55, 117, 580, 7, 25, 3099, 4, 277, 190, 630, 26, 3146, 56, 949, 4, 130, 1200, 25, 19, 6, 680, 4183, 7, 1417, 2, 7, 3907, 1465, 5, 4924, 18, 628, 2, 10, 10, 4, 22, 9, 2772, 5, 25, 28, 8, 990, 692, 469, 14, 218, 15, 254, 88, 3432, 26, 15, 490, 30, 340, 1309, 11, 8, 4, 22, 5, 528, 193, 129, 523, 125, 4, 268, 18, 31, 333, 10, 10, 13, 633, 563, 6154, 7087, 32, 44, 4, 22, 13, 43, 106, 21, 6742, 1749, 9, 131, 8427, 11, 61, 330, 504, 103, 149, 12, 13, 386, 12, 8, 259, 37, 494, 6, 653, 39, 606, 2012, 108])\n",
      " list([1, 13, 219, 7976, 6693, 1453, 5, 210, 4, 172, 547, 25, 67, 4, 7522, 5270, 97, 172, 20, 36, 40, 297, 275, 2255, 5, 95, 809, 11, 119, 8, 1013, 608, 150, 44, 4, 20, 86, 125, 32, 141, 117, 1013, 5, 539, 92, 297, 23, 141, 194, 6693, 241, 2319, 127, 24, 297, 23, 58, 5543, 342, 48, 4, 500, 9, 33, 94, 130, 4, 2, 408, 49, 2, 6, 786, 42, 53, 5, 4, 1363, 9, 38, 2, 13, 104, 15, 14, 20, 9, 78, 88, 7, 4, 583, 7, 2319, 2, 48, 12, 71, 224, 34, 1874, 1180, 12, 62, 30, 128, 5, 82, 4, 2, 156, 713, 4, 7642, 1099, 36, 2712, 39, 583, 7, 2902, 608, 36, 256, 49, 2187, 11, 368, 313, 21, 15, 152, 97, 98, 194, 381, 25, 28, 188, 8, 123, 129, 676, 5, 15, 9, 51, 9, 1012, 11, 4, 7522, 5270])\n",
      " list([1, 32, 2515, 140, 8, 1827, 9, 31, 7, 4, 118, 102, 207, 126, 110, 13, 86, 219, 12, 54, 13, 16, 40, 342, 150, 146, 1691, 5, 13, 1610, 12, 12, 166, 72, 104, 7, 183, 5, 12, 961, 145, 38, 111, 1883, 148, 71, 4, 504, 13, 119, 4, 228, 13, 119, 54, 1441, 9, 6812, 11, 1827, 13, 119, 4, 613, 387, 72, 30, 770, 13, 119, 89, 1441, 272, 5, 27, 544, 8053, 3622, 100, 64, 297, 7329, 544, 14, 87, 13, 119, 14, 20, 4, 3284, 31, 9, 4, 118, 31, 88, 45, 38, 204, 5, 87, 12, 66, 127, 721, 145, 1883, 15, 57, 31, 70, 1634, 24, 60, 72, 48, 64, 13, 100, 140, 145, 8, 148, 504, 13, 119, 4, 105, 48, 14, 9, 4, 96, 4, 1883, 216, 145, 54, 146, 1691, 838, 89, 637, 235, 54, 146, 40, 5551, 13, 440, 637, 30, 502, 8, 106, 14, 54, 146, 922, 54, 13, 86, 110, 14, 13, 115, 697, 15, 13, 62, 66, 168, 145, 23, 12, 5, 235, 14, 96, 13, 440, 12, 80, 30, 1439, 8, 106, 146, 38, 654, 15, 14, 20, 16, 93, 5, 4, 480, 326, 385, 8, 330, 5, 483, 23, 6, 2407, 39, 300, 158, 474, 202, 12, 6, 404, 158, 45, 35, 480, 20, 45, 38, 254, 8, 1260, 4, 547, 54, 13, 79, 922, 5, 48, 13, 28, 362, 13, 440, 36, 70, 585, 14, 547])]\n"
     ]
    }
   ],
   "source": [
    "#checking few rows of data from X_train\n",
    "print(X_train[0:5])"
   ]
  },
  {
   "cell_type": "code",
   "execution_count": 7,
   "metadata": {
    "colab": {
     "base_uri": "https://localhost:8080/",
     "height": 102
    },
    "colab_type": "code",
    "id": "xKzA6H6A_cJU",
    "outputId": "cf6ceaff-4393-4a43-bd15-2ae115f82aa4"
   },
   "outputs": [
    {
     "name": "stdout",
     "output_type": "stream",
     "text": [
      "Length of row index 0 is 214\n",
      "Length of row index 1 is 262\n",
      "Length of row index 2 is 223\n",
      "Length of row index 3 is 153\n",
      "Length of row index 4 is 244\n"
     ]
    }
   ],
   "source": [
    "#checking length of values for few rows in X_train\n",
    "for i in range(0,5):\n",
    "  print('Length of row index',i,'is',len(X_train[i]))"
   ]
  },
  {
   "cell_type": "code",
   "execution_count": 8,
   "metadata": {
    "colab": {
     "base_uri": "https://localhost:8080/",
     "height": 34
    },
    "colab_type": "code",
    "id": "C39sDaggUvuI",
    "outputId": "1426979c-e01a-403f-c99d-baf69b79bfe0"
   },
   "outputs": [
    {
     "name": "stdout",
     "output_type": "stream",
     "text": [
      "The maximum number of words in any row/document is :  2494\n"
     ]
    }
   ],
   "source": [
    "# since each row is of different length we will find the maximum length for any row in X_train\n",
    "maxlen=-1\n",
    "for i in range (0,len(X_train)):\n",
    "    if(maxlen<len(X_train[i])):\n",
    "        maxlen=len(X_train[i])\n",
    "print(\"The maximum number of words in any row/document is : \",maxlen)"
   ]
  },
  {
   "cell_type": "code",
   "execution_count": 9,
   "metadata": {
    "colab": {
     "base_uri": "https://localhost:8080/",
     "height": 51
    },
    "colab_type": "code",
    "id": "6NDO_hLdynAo",
    "outputId": "b2ce893c-e5e6-4a48-ef5b-98dbf30b39da"
   },
   "outputs": [
    {
     "name": "stdout",
     "output_type": "stream",
     "text": [
      "(array([0, 1]), array([12500, 12500]))\n",
      "(array([0, 1]), array([12500, 12500]))\n"
     ]
    }
   ],
   "source": [
    "#checking unique values in y (train and test) and also the split of data between various y labels\n",
    "print(np.unique(y_train, return_counts=True))\n",
    "print(np.unique(y_test, return_counts=True))"
   ]
  },
  {
   "cell_type": "markdown",
   "metadata": {
    "colab_type": "text",
    "id": "xrZeME_aFcC0"
   },
   "source": [
    "\n",
    "\n",
    "1.   The data seems to be balanced ( with 50% data with sentiment label as 0 and rest 50% with sentiment label 1)\n",
    "\n"
   ]
  },
  {
   "cell_type": "code",
   "execution_count": null,
   "metadata": {
    "colab": {},
    "colab_type": "code",
    "id": "bNCI5aFk_3Za"
   },
   "outputs": [],
   "source": [
    "#make all sequences of the same length\n",
    "maxlen = 20  \n",
    "X_train = pad_sequences(X_train, maxlen=maxlen,padding='post', truncating='post',value=0)\n",
    "X_test = pad_sequences(X_test, maxlen=maxlen,padding='post', truncating='post',value=0)"
   ]
  },
  {
   "cell_type": "code",
   "execution_count": 11,
   "metadata": {
    "colab": {
     "base_uri": "https://localhost:8080/",
     "height": 85
    },
    "colab_type": "code",
    "id": "BTKAYV7CS8Ds",
    "outputId": "9ebf9d07-47d9-42d1-cf76-8b543d4ad6dd"
   },
   "outputs": [
    {
     "name": "stdout",
     "output_type": "stream",
     "text": [
      "X_train dataset shape: (25000, 20)\n",
      "y_train dataset shape: (25000,)\n",
      "X_test dataset shape: (25000, 20)\n",
      "y_test dataset shape: (25000,)\n"
     ]
    }
   ],
   "source": [
    "#check the shape of dataset \n",
    "print('X_train dataset shape:',X_train.shape)\n",
    "print('y_train dataset shape:',y_train.shape)\n",
    "print('X_test dataset shape:',X_test.shape)\n",
    "print('y_test dataset shape:',y_test.shape)"
   ]
  },
  {
   "cell_type": "code",
   "execution_count": 12,
   "metadata": {
    "colab": {
     "base_uri": "https://localhost:8080/",
     "height": 187
    },
    "colab_type": "code",
    "id": "e60J3-OoBCIP",
    "outputId": "c76ea3e7-efef-404c-93b0-9319479c200e"
   },
   "outputs": [
    {
     "name": "stdout",
     "output_type": "stream",
     "text": [
      "[[   1   43  385   46    7    6 4949 4435   18   14   22   12   69   72\n",
      "  1104  175 1088    2    4  277]\n",
      " [   1   14    9    6  184  680   20   12  127  266  638   17   35 2228\n",
      "    22   19  120    4  350  567]\n",
      " [   1  466  321 4241   18 6742 1749   13   16 1017    8   30  685   34\n",
      "     4   22   88  474  557   15]\n",
      " [   1   13  219 7976 6693 1453    5  210    4  172  547   25   67    4\n",
      "  7522 5270   97  172   20   36]\n",
      " [   1   32 2515  140    8 1827    9   31    7    4  118  102  207  126\n",
      "   110   13   86  219   12   54]]\n"
     ]
    }
   ],
   "source": [
    "#checking few rows of data from X_train\n",
    "print(X_train[0:5])"
   ]
  },
  {
   "cell_type": "markdown",
   "metadata": {
    "colab_type": "text",
    "id": "MZlhhEFtAT0h"
   },
   "source": [
    "1.   Each row of review is now represented in length of 20 words ( words already represented as indexed numbers)\n",
    "\n",
    "\n",
    "\n"
   ]
  },
  {
   "cell_type": "markdown",
   "metadata": {
    "colab_type": "text",
    "id": "UhaKPpUZIY98"
   },
   "source": [
    "## Build word dict and Keras Embedding Layer Model"
   ]
  },
  {
   "cell_type": "code",
   "execution_count": 13,
   "metadata": {
    "colab": {
     "base_uri": "https://localhost:8080/",
     "height": 85
    },
    "colab_type": "code",
    "id": "Tf-jvOdj1vtY",
    "outputId": "b15ac2cc-4dbc-4917-c0db-809eb5bed003"
   },
   "outputs": [
    {
     "name": "stdout",
     "output_type": "stream",
     "text": [
      "Downloading data from https://s3.amazonaws.com/text-datasets/imdb_word_index.json\n",
      "1646592/1641221 [==============================] - 0s 0us/step\n",
      "<START> just came out of a sneak preview for this film it had me laughing every 30 <UNKNOWN> the ending\n",
      "<START> i have to agree with the previous author's comments about the excellent performances and plot started watching this movie\n"
     ]
    }
   ],
   "source": [
    "#getting word index data from imdb dataset and creating dict. for word id\n",
    "\n",
    "word_to_id = imdb.get_word_index()\n",
    "word_to_id = {k:(v+3) for k,v in word_to_id.items()}\n",
    "word_to_id[\"<PAD>\"] = 0\n",
    "word_to_id[\"<START>\"] = 1\n",
    "word_to_id[\"<UNKNOWN>\"] = 2\n",
    "\n",
    "id_to_word = {value:key for key,value in word_to_id.items()}\n",
    "print(' '.join(id_to_word[id] for id in X_train[0] ))\n",
    "print(' '.join(id_to_word[id] for id in X_test[0] ))"
   ]
  },
  {
   "cell_type": "code",
   "execution_count": 14,
   "metadata": {
    "colab": {
     "base_uri": "https://localhost:8080/",
     "height": 238
    },
    "colab_type": "code",
    "id": "aUfb2_OTjg_z",
    "outputId": "bb23e022-15bd-4298-e512-98a3d50b4ddd"
   },
   "outputs": [
    {
     "name": "stdout",
     "output_type": "stream",
     "text": [
      "Model: \"model\"\n",
      "_________________________________________________________________\n",
      "Layer (type)                 Output Shape              Param #   \n",
      "=================================================================\n",
      "input_1 (InputLayer)         [(None, 20)]              0         \n",
      "_________________________________________________________________\n",
      "embedding (Embedding)        (None, 20, 32)            320000    \n",
      "=================================================================\n",
      "Total params: 320,000\n",
      "Trainable params: 320,000\n",
      "Non-trainable params: 0\n",
      "_________________________________________________________________\n",
      "None\n"
     ]
    }
   ],
   "source": [
    "#model parameters - embedding \n",
    "input_dim=vocab_size\n",
    "output_dim=32\n",
    "input_length=maxlen\n",
    "\n",
    "#defining model \n",
    "clear_session()\n",
    "\n",
    "word_input= Input(shape=(maxlen,),dtype='float64')\n",
    "word_embedding=Embedding(input_dim=input_dim,output_dim=output_dim,input_length=input_length)(word_input)\n",
    "embed_model =Model([word_input],word_embedding) \n",
    "\n",
    "embed_model.compile(optimizer= Adam(lr=1e-3),loss='binary_crossentropy',metrics=['acc'])\n",
    "\n",
    "print(embed_model.summary())"
   ]
  },
  {
   "cell_type": "code",
   "execution_count": 15,
   "metadata": {
    "colab": {
     "base_uri": "https://localhost:8080/",
     "height": 34
    },
    "colab_type": "code",
    "id": "coyh1w_xbN6A",
    "outputId": "d3744ecd-c567-4d62-d5f8-a1fac3ab3e7c"
   },
   "outputs": [
    {
     "name": "stdout",
     "output_type": "stream",
     "text": [
      "Shape of embeddings :  (25000, 20, 32)\n"
     ]
    }
   ],
   "source": [
    "#predicting embedding for X_test \n",
    "embeddings=embed_model.predict(X_test)\n",
    "print(\"Shape of embeddings : \",embeddings.shape)"
   ]
  },
  {
   "cell_type": "code",
   "execution_count": 16,
   "metadata": {
    "colab": {
     "base_uri": "https://localhost:8080/",
     "height": 1000
    },
    "colab_type": "code",
    "id": "Tz7aByw5c7F8",
    "outputId": "bf6003bf-dcb6-405b-991b-0fd47febac05"
   },
   "outputs": [
    {
     "name": "stdout",
     "output_type": "stream",
     "text": [
      "Shape of sample :  (2, 20, 32)\n",
      "\n",
      "The encoding for  1 word in 1 document is : \n",
      " [ 0.04386171  0.02070225  0.0421308  -0.00891602  0.01651304  0.02387225\n",
      " -0.01797535 -0.00468678  0.02094293 -0.0254933  -0.04965603 -0.03299235\n",
      "  0.02473836 -0.02423836 -0.00436568  0.01957205  0.04929722  0.03756702\n",
      " -0.00171905  0.04786489  0.03116927  0.01588223  0.04753988  0.04577662\n",
      "  0.02455666  0.04832007 -0.01336414  0.00910617  0.00515661 -0.01764143\n",
      "  0.04420337 -0.00387723]\n",
      "\n",
      "The encoding for  2 word in 1 document is : \n",
      " [ 0.01660788 -0.00438808  0.02679885 -0.02686133 -0.00552022 -0.02237105\n",
      "  0.00972724 -0.01029619  0.01579661 -0.01603831 -0.03135706 -0.0418045\n",
      "  0.03643625 -0.0244095   0.01565209 -0.03562337  0.00149268 -0.03504843\n",
      "  0.03135511  0.02869928 -0.01369913  0.02433803  0.02533802 -0.01438489\n",
      " -0.04661667  0.02173171  0.01701662 -0.02809697 -0.02299073 -0.01080754\n",
      "  0.02618934  0.04663909]\n",
      "\n",
      "The encoding for  3 word in 1 document is : \n",
      " [ 0.04850173  0.03657308 -0.03429065 -0.01754516 -0.03271879 -0.01076791\n",
      "  0.01000937  0.03558673 -0.02034073  0.04477883 -0.00735465  0.03546602\n",
      "  0.03888316 -0.02212719  0.04354245  0.01642548  0.04574184  0.04295255\n",
      "  0.03432221 -0.00160477 -0.00262644 -0.0064785   0.01204364  0.04209012\n",
      " -0.04769908  0.00084808  0.00829164  0.03359665  0.00382633  0.04011661\n",
      " -0.00095657  0.02524641]\n",
      "\n",
      "The encoding for  4 word in 1 document is : \n",
      " [ 0.01937315  0.04212414 -0.00304606 -0.03762841 -0.0235202  -0.04348849\n",
      "  0.02049712  0.03325543  0.03888544 -0.00139048  0.04876721 -0.01528209\n",
      "  0.03182579 -0.00889128 -0.01748616  0.03899273  0.03996296  0.04837025\n",
      "  0.00904942  0.04901857 -0.01703894  0.00575204 -0.0300415  -0.04107304\n",
      "  0.0266257  -0.00331409  0.02348448  0.0139794   0.01823613 -0.00997239\n",
      " -0.00392216  0.00185829]\n",
      "\n",
      "The encoding for  5 word in 1 document is : \n",
      " [ 0.00988512 -0.04740771  0.04258    -0.02095684 -0.01044941  0.03300717\n",
      "  0.03597746  0.03252811 -0.04262396  0.00520351 -0.01833119  0.01311871\n",
      "  0.04823841 -0.03456614 -0.01340597  0.0178278  -0.0368487  -0.01832129\n",
      " -0.04180362  0.03019113 -0.0270254  -0.0401055   0.02014884 -0.00680109\n",
      "  0.01934118  0.00703662 -0.02840661 -0.01298382  0.02047862  0.01603745\n",
      "  0.01261627  0.03696955]\n",
      "\n",
      "The encoding for  6 word in 1 document is : \n",
      " [-0.00857585 -0.02550532  0.02263144 -0.00681769  0.00789372  0.00218922\n",
      " -0.01059091  0.02536795 -0.03379327 -0.02584915 -0.03669151 -0.02949047\n",
      " -0.04711723 -0.02017566  0.04196217 -0.04518757  0.02784381 -0.04604372\n",
      " -0.02476854 -0.02593534  0.02068588 -0.0147691  -0.04397152  0.02424082\n",
      " -0.03968086  0.03986089  0.02964392  0.04773645 -0.00384229 -0.00732057\n",
      " -0.01931634 -0.01533551]\n",
      "\n",
      "The encoding for  7 word in 1 document is : \n",
      " [-0.03179713 -0.0181599  -0.03282235  0.00212149  0.01995773 -0.03490769\n",
      "  0.04986915 -0.03350139  0.02366174  0.01954681  0.0377405   0.02826573\n",
      "  0.00903155 -0.03021017  0.02243802  0.04060734  0.03607086 -0.02743329\n",
      " -0.03800595 -0.00563287 -0.02380039 -0.01878215  0.04285523 -0.03604814\n",
      " -0.00880104  0.04074825 -0.04326311  0.02211057  0.04905493 -0.01071727\n",
      " -0.0264442   0.01545279]\n",
      "\n",
      "The encoding for  8 word in 1 document is : \n",
      " [-0.03798966  0.01847344  0.01269144  0.02101288  0.04721205 -0.0123397\n",
      " -0.01256005  0.03075827  0.02073016  0.0436504  -0.04071414  0.02382025\n",
      "  0.00882143  0.0245608   0.04647489 -0.01529713  0.0351286  -0.02819145\n",
      "  0.04372654 -0.0497213   0.03950104 -0.02263473  0.04403654  0.02087146\n",
      " -0.03587018 -0.02639695  0.03056011 -0.04107668 -0.04504419  0.03315461\n",
      " -0.04554414 -0.02971362]\n",
      "\n",
      "The encoding for  9 word in 1 document is : \n",
      " [ 0.02389323 -0.03358431  0.0251906   0.0040716   0.02864779 -0.0057305\n",
      "  0.00854091 -0.02813153 -0.00869102  0.00198711 -0.02456012  0.01178279\n",
      " -0.01945543  0.00661121  0.00187638  0.0424314  -0.01548411 -0.03190093\n",
      " -0.01475153 -0.0197545   0.01948054  0.00863105 -0.04429564 -0.031644\n",
      " -0.02439957 -0.04447533 -0.02908652  0.02356039 -0.04498988  0.00542518\n",
      " -0.01316214 -0.02694037]\n",
      "\n",
      "The encoding for  10 word in 1 document is : \n",
      " [-3.6535311e-02 -1.7520927e-02 -2.4305595e-02 -2.9387021e-02\n",
      " -6.4113028e-03 -4.1015755e-02  2.4700049e-02  2.0189893e-02\n",
      "  4.1276161e-02  8.5143670e-03  1.8936519e-02 -2.8225852e-02\n",
      " -3.7504770e-02 -5.8639422e-03 -4.4768658e-02  2.5883686e-02\n",
      " -4.5063116e-02  3.1716872e-02 -8.4920898e-03  5.2154884e-03\n",
      "  1.5515711e-02 -1.1631332e-02 -4.3456044e-02 -2.8674185e-02\n",
      " -5.4146275e-03 -1.6652942e-03  8.4221363e-05 -3.3655427e-02\n",
      "  4.3608550e-02 -3.6854409e-02  1.9812454e-02  2.9948924e-02]\n",
      "\n",
      "The encoding for  11 word in 1 document is : \n",
      " [-0.01671854 -0.00068935 -0.03149668  0.0295505  -0.03424882 -0.04934986\n",
      " -0.03122081  0.02746762 -0.00578605 -0.03326153  0.02452831 -0.03367487\n",
      " -0.03392667 -0.01254517 -0.0197624  -0.04220153 -0.00293076  0.02991324\n",
      "  0.00043832 -0.02528477  0.0126978   0.03855134 -0.03001809  0.0090331\n",
      "  0.00115526 -0.04926911  0.03846159 -0.02175782  0.03952521 -0.02388653\n",
      " -0.04391185 -0.03791248]\n",
      "\n",
      "The encoding for  12 word in 1 document is : \n",
      " [-0.03179713 -0.0181599  -0.03282235  0.00212149  0.01995773 -0.03490769\n",
      "  0.04986915 -0.03350139  0.02366174  0.01954681  0.0377405   0.02826573\n",
      "  0.00903155 -0.03021017  0.02243802  0.04060734  0.03607086 -0.02743329\n",
      " -0.03800595 -0.00563287 -0.02380039 -0.01878215  0.04285523 -0.03604814\n",
      " -0.00880104  0.04074825 -0.04326311  0.02211057  0.04905493 -0.01071727\n",
      " -0.0264442   0.01545279]\n",
      "\n",
      "The encoding for  13 word in 1 document is : \n",
      " [ 0.03667507 -0.03522186 -0.02079014 -0.00619983 -0.03395166  0.01000088\n",
      " -0.01165263 -0.03823764 -0.03111428 -0.02623651  0.02779733 -0.00992725\n",
      "  0.01185698  0.02128213 -0.0062068   0.023892    0.00560649 -0.02409164\n",
      "  0.00746166  0.01066533  0.00034289 -0.03172362  0.03989513 -0.0128881\n",
      " -0.00374286 -0.03259005  0.00892717 -0.02995246 -0.00679154  0.0180898\n",
      "  0.04366729 -0.00980436]\n",
      "\n",
      "The encoding for  14 word in 1 document is : \n",
      " [-0.01794256 -0.04888448  0.03714082 -0.00330795  0.00643931  0.02730702\n",
      " -0.02215445  0.01960877 -0.04272171  0.03127266 -0.04366466 -0.03949249\n",
      " -0.04417843  0.01096519 -0.03182147  0.00073005  0.02411756 -0.01789621\n",
      " -0.04602415  0.01801633  0.01639685  0.04525929  0.04312935  0.01410706\n",
      " -0.04322764  0.01271093  0.04883487 -0.02927878  0.03634952 -0.00801767\n",
      "  0.00848506 -0.04941753]\n",
      "\n",
      "The encoding for  15 word in 1 document is : \n",
      " [ 0.02982047  0.00269163  0.03424234  0.01892633  0.0222834   0.01564397\n",
      " -0.01309578 -0.00420401  0.02311707 -0.02143849  0.00975627  0.00676118\n",
      " -0.0322509   0.00578666 -0.04386835  0.00541495 -0.03943583 -0.03153125\n",
      " -0.03157651 -0.02082704 -0.01456211 -0.04750197 -0.00623043  0.04627785\n",
      " -0.00132275  0.02057679  0.02691657 -0.04555013 -0.01030309  0.02914853\n",
      "  0.03150186 -0.00469514]\n",
      "\n",
      "The encoding for  16 word in 1 document is : \n",
      " [-0.033725    0.02613645  0.04335196 -0.01410292  0.01203108  0.02471869\n",
      "  0.00179989  0.00252161 -0.04944108  0.01742324  0.02991209  0.03873868\n",
      " -0.01946815  0.02104081 -0.04000933  0.02021876 -0.03566198  0.02262131\n",
      " -0.02164192  0.02341813  0.04756008 -0.00720387 -0.02933383 -0.00201584\n",
      "  0.03207059 -0.00590741  0.02704832 -0.04943608  0.01849201 -0.02942704\n",
      " -0.01290726  0.01997906]\n",
      "\n",
      "The encoding for  17 word in 1 document is : \n",
      " [ 0.03189988  0.00178682 -0.02867036  0.00960941  0.01997713  0.03535682\n",
      " -0.00964908  0.03866116  0.0385572  -0.03402727  0.00503627  0.03989956\n",
      "  0.01151427  0.01425734  0.01059704  0.0277178  -0.00504941  0.00089724\n",
      "  0.0003196  -0.00296343 -0.0055002   0.01288087  0.04356735 -0.0008222\n",
      " -0.01251255  0.03532875  0.03689999  0.01401233  0.01011374 -0.00252809\n",
      "  0.02301294 -0.02076876]\n",
      "\n",
      "The encoding for  18 word in 1 document is : \n",
      " [-0.04502254 -0.00400795 -0.04175752 -0.0088153  -0.04679213  0.04935025\n",
      " -0.00950987  0.00534757  0.02151627  0.0360244  -0.02829267 -0.04371361\n",
      " -0.01777791 -0.04524017 -0.04042064  0.01909231 -0.04028344 -0.043761\n",
      " -0.00959418 -0.02722923  0.03735738  0.02069027 -0.03974837 -0.00399311\n",
      " -0.00831566 -0.04711105  0.0290794   0.04861424  0.04183246 -0.04489814\n",
      "  0.03618635  0.04376594]\n",
      "\n",
      "The encoding for  19 word in 1 document is : \n",
      " [ 0.0160306   0.03525957 -0.0046263   0.00547429  0.02144213 -0.0432208\n",
      "  0.03466937  0.02671492  0.04146365 -0.03114467  0.00733097 -0.03095068\n",
      " -0.01016884  0.0206728  -0.00819654  0.01572379 -0.0069408   0.04049059\n",
      "  0.00561454 -0.03159504 -0.01535704 -0.02581248 -0.00024785 -0.0201249\n",
      "  0.00355349  0.00356514 -0.0188732  -0.03609917  0.03081967 -0.02636772\n",
      " -0.00483437 -0.01363202]\n",
      "\n",
      "The encoding for  20 word in 1 document is : \n",
      " [ 0.03802276 -0.04184463 -0.04249226 -0.01124763  0.04607037  0.04710579\n",
      " -0.02618927 -0.01806594 -0.01232199 -0.02827526  0.00064949  0.00045017\n",
      "  0.01578912 -0.02400064 -0.0338451  -0.02568296  0.0009743  -0.01093453\n",
      " -0.04814489  0.00461217  0.02661965  0.03886176  0.02561397  0.03046377\n",
      "  0.04080447  0.03494916 -0.02375714 -0.00176861 -0.02534698  0.00768751\n",
      " -0.03104328 -0.01244093]\n",
      "\n",
      "The encoding for  1 word in 2 document is : \n",
      " [ 0.04386171  0.02070225  0.0421308  -0.00891602  0.01651304  0.02387225\n",
      " -0.01797535 -0.00468678  0.02094293 -0.0254933  -0.04965603 -0.03299235\n",
      "  0.02473836 -0.02423836 -0.00436568  0.01957205  0.04929722  0.03756702\n",
      " -0.00171905  0.04786489  0.03116927  0.01588223  0.04753988  0.04577662\n",
      "  0.02455666  0.04832007 -0.01336414  0.00910617  0.00515661 -0.01764143\n",
      "  0.04420337 -0.00387723]\n",
      "\n",
      "The encoding for  2 word in 2 document is : \n",
      " [-0.00013124 -0.04260205 -0.02593875 -0.03188536 -0.03931745  0.01732038\n",
      " -0.03788389 -0.01265926 -0.02152692 -0.03421275  0.03456846  0.02137678\n",
      "  0.02821267 -0.02345635 -0.04723283  0.02462215  0.04967486 -0.01482505\n",
      " -0.0085088   0.00775213 -0.02438972 -0.00155952  0.01054456 -0.04085458\n",
      "  0.0030605  -0.0284422   0.01013869 -0.03091235 -0.012473   -0.02171274\n",
      "  0.03811628 -0.00794648]\n",
      "\n",
      "The encoding for  3 word in 2 document is : \n",
      " [ 0.0160306   0.03525957 -0.0046263   0.00547429  0.02144213 -0.0432208\n",
      "  0.03466937  0.02671492  0.04146365 -0.03114467  0.00733097 -0.03095068\n",
      " -0.01016884  0.0206728  -0.00819654  0.01572379 -0.0069408   0.04049059\n",
      "  0.00561454 -0.03159504 -0.01535704 -0.02581248 -0.00024785 -0.0201249\n",
      "  0.00355349  0.00356514 -0.0188732  -0.03609917  0.03081967 -0.02636772\n",
      " -0.00483437 -0.01363202]\n",
      "\n",
      "The encoding for  4 word in 2 document is : \n",
      " [ 0.03802276 -0.04184463 -0.04249226 -0.01124763  0.04607037  0.04710579\n",
      " -0.02618927 -0.01806594 -0.01232199 -0.02827526  0.00064949  0.00045017\n",
      "  0.01578912 -0.02400064 -0.0338451  -0.02568296  0.0009743  -0.01093453\n",
      " -0.04814489  0.00461217  0.02661965  0.03886176  0.02561397  0.03046377\n",
      "  0.04080447  0.03494916 -0.02375714 -0.00176861 -0.02534698  0.00768751\n",
      " -0.03104328 -0.01244093]\n",
      "\n",
      "The encoding for  5 word in 2 document is : \n",
      " [-0.01161678  0.00178425  0.04331049  0.04883679 -0.00524995 -0.04412023\n",
      " -0.00383061  0.02499834 -0.03386255 -0.03833169 -0.02753869 -0.00321902\n",
      "  0.01353404  0.01137441 -0.03861703  0.034586   -0.04382673 -0.03616802\n",
      " -0.00899655 -0.02194721 -0.04921487  0.03069807  0.04202113  0.03804256\n",
      " -0.01735868  0.04564222  0.03219188 -0.02164576  0.03950274  0.02330029\n",
      " -0.03040734 -0.02730432]\n",
      "\n",
      "The encoding for  6 word in 2 document is : \n",
      " [ 0.03952013  0.04945843  0.00722333  0.0356375   0.03768982 -0.01311916\n",
      "  0.01029569 -0.00946206  0.0387552  -0.00864171  0.02962378  0.01863516\n",
      "  0.04846294 -0.01525611 -0.00506359  0.01748807  0.00754082  0.00445043\n",
      " -0.00339026 -0.03022285  0.01621469 -0.00283824 -0.00909841 -0.02831554\n",
      "  0.02915933 -0.00668196 -0.01316087 -0.04384829  0.0294748   0.01576247\n",
      " -0.00425571  0.02282126]\n",
      "\n",
      "The encoding for  7 word in 2 document is : \n",
      " [-0.02710278 -0.00282562  0.03023208  0.01522777 -0.03922875 -0.00485449\n",
      "  0.04054857 -0.02480851  0.01209352 -0.02311515 -0.02099277  0.04650545\n",
      "  0.03838948  0.01115413 -0.00738534 -0.00438017  0.02143801  0.04556939\n",
      " -0.04936416  0.02719324 -0.03987964 -0.03490669  0.00869018 -0.02623339\n",
      " -0.00770934 -0.04727289  0.000888    0.02310599  0.02905861 -0.03626763\n",
      "  0.03967286 -0.0431955 ]\n",
      "\n",
      "The encoding for  8 word in 2 document is : \n",
      " [ 0.04243225  0.04209462  0.02526429  0.02372869  0.03539975  0.02759003\n",
      " -0.02389063 -0.01656276 -0.02545227  0.04867958 -0.02269914 -0.03417122\n",
      " -0.01794784  0.00478414  0.00655828 -0.01578604  0.03572154  0.02406185\n",
      "  0.00562607 -0.02055378 -0.01115075 -0.03980022 -0.01276308  0.03792858\n",
      "  0.00579873  0.01653923  0.01606769  0.01765451  0.01655949 -0.01425068\n",
      " -0.03643655  0.03101614]\n",
      "\n",
      "The encoding for  9 word in 2 document is : \n",
      " [-0.00857585 -0.02550532  0.02263144 -0.00681769  0.00789372  0.00218922\n",
      " -0.01059091  0.02536795 -0.03379327 -0.02584915 -0.03669151 -0.02949047\n",
      " -0.04711723 -0.02017566  0.04196217 -0.04518757  0.02784381 -0.04604372\n",
      " -0.02476854 -0.02593534  0.02068588 -0.0147691  -0.04397152  0.02424082\n",
      " -0.03968086  0.03986089  0.02964392  0.04773645 -0.00384229 -0.00732057\n",
      " -0.01931634 -0.01533551]\n",
      "\n",
      "The encoding for  10 word in 2 document is : \n",
      " [-0.03179713 -0.0181599  -0.03282235  0.00212149  0.01995773 -0.03490769\n",
      "  0.04986915 -0.03350139  0.02366174  0.01954681  0.0377405   0.02826573\n",
      "  0.00903155 -0.03021017  0.02243802  0.04060734  0.03607086 -0.02743329\n",
      " -0.03800595 -0.00563287 -0.02380039 -0.01878215  0.04285523 -0.03604814\n",
      " -0.00880104  0.04074825 -0.04326311  0.02211057  0.04905493 -0.01071727\n",
      " -0.0264442   0.01545279]\n",
      "\n",
      "The encoding for  11 word in 2 document is : \n",
      " [-0.02789626  0.01005942 -0.00441228 -0.02112421 -0.00301906 -0.0307945\n",
      " -0.01343333  0.03565815 -0.00045961  0.03235655 -0.00272471  0.04523604\n",
      "  0.04983647  0.00757203  0.04986515  0.03421029  0.04813311  0.01977097\n",
      "  0.03903938  0.01257877 -0.00900493 -0.00207131  0.00949303 -0.03592106\n",
      " -0.04205934 -0.01879455 -0.01437546  0.03843843 -0.00311457  0.00781522\n",
      " -0.03332323 -0.04186441]\n",
      "\n",
      "The encoding for  12 word in 2 document is : \n",
      " [ 0.0429557  -0.00055908  0.000755    0.02327165 -0.03971284 -0.02821965\n",
      " -0.03508095  0.02918677 -0.01118503  0.04106766 -0.02406989 -0.04969005\n",
      " -0.0126814   0.04510757  0.02927241 -0.00524418  0.04592672  0.01742536\n",
      "  0.02949921  0.04082265  0.04543858 -0.03674169  0.02975858  0.01045024\n",
      "  0.01165812 -0.02860687  0.01735217 -0.01750844 -0.01847371 -0.02667573\n",
      "  0.0483956   0.02978304]\n",
      "\n",
      "The encoding for  13 word in 2 document is : \n",
      " [ 0.03846048 -0.04733419 -0.03633876 -0.00232023 -0.0392396   0.00170351\n",
      "  0.03217566 -0.01117797  0.0268789   0.00389902  0.02976093 -0.04588497\n",
      "  0.01297832 -0.04422177  0.00199461 -0.04943632 -0.03162964 -0.03287559\n",
      "  0.00166113 -0.02664863 -0.04586172  0.01620874  0.03863985 -0.04431857\n",
      "  0.01535399 -0.04854106 -0.02515037 -0.04794024  0.0433157  -0.02637873\n",
      "  0.04029903 -0.00697899]\n",
      "\n",
      "The encoding for  14 word in 2 document is : \n",
      " [-4.9980450e-02  4.3194819e-02  2.0978559e-02 -1.7765380e-02\n",
      "  3.0416895e-02 -2.3113145e-02 -4.1248560e-02 -1.6283143e-02\n",
      "  1.4987651e-02 -3.2560445e-02  1.9411329e-02  3.8092975e-02\n",
      "  4.6721473e-03  1.6799796e-02 -2.8988196e-02  1.4857937e-02\n",
      "  3.2722950e-05  2.4767630e-03  3.5522096e-03 -2.6131809e-02\n",
      " -1.3693761e-02  1.0508299e-03  6.5210089e-03  2.0406511e-02\n",
      "  1.7330647e-03 -6.8651810e-03 -6.1784014e-03 -4.2485371e-03\n",
      " -4.4911362e-02  4.0806830e-05 -2.5124455e-02 -2.5957657e-02]\n",
      "\n",
      "The encoding for  15 word in 2 document is : \n",
      " [ 0.00538003 -0.04632825  0.02534025 -0.02630633 -0.03765632 -0.02829499\n",
      "  0.02738899 -0.01278017 -0.04441471  0.037643   -0.00966875 -0.02162132\n",
      " -0.04946288  0.03224402 -0.03575407 -0.03263593  0.03700959 -0.00878205\n",
      " -0.01745335  0.03036303 -0.02325014  0.01239563  0.01673018 -0.02949827\n",
      "  0.01125679  0.01743884 -0.01994603  0.0084782   0.03639673  0.03408921\n",
      " -0.04358132 -0.01549369]\n",
      "\n",
      "The encoding for  16 word in 2 document is : \n",
      " [-0.0299102   0.00686414 -0.00686055 -0.02720512  0.01167197 -0.02676871\n",
      "  0.02430775  0.03040441 -0.04464824  0.02175968  0.03939028  0.00937121\n",
      " -0.02764939  0.03411831  0.00112922  0.04958253  0.03204633 -0.0317892\n",
      " -0.04784585 -0.00189797 -0.0247329  -0.00466974 -0.04863218  0.04509148\n",
      " -0.01072973  0.0441324  -0.02754937  0.00722801 -0.03526068  0.01414478\n",
      " -0.02057201 -0.03901563]\n",
      "\n",
      "The encoding for  17 word in 2 document is : \n",
      " [ 0.03045103  0.02324713 -0.01775979 -0.03310728  0.0216446   0.03729611\n",
      "  0.01105382 -0.03210001 -0.03450423 -0.03075148  0.00892118  0.02036727\n",
      "  0.02847901 -0.02320495 -0.01679969 -0.03883743  0.04792354  0.03829857\n",
      "  0.02416037 -0.02621358  0.04700406  0.02453041 -0.013702    0.00880007\n",
      "  0.01060833  0.01048974 -0.03003424  0.01272652 -0.01747347  0.02450022\n",
      "  0.04856246  0.0011403 ]\n",
      "\n",
      "The encoding for  18 word in 2 document is : \n",
      " [ 0.04315696  0.00158256  0.01105369  0.00108367  0.04194217  0.04099358\n",
      " -0.02141223 -0.01017062 -0.01396543  0.02723366 -0.03454717  0.01853168\n",
      "  0.04167132 -0.03567289 -0.00726328 -0.00071932 -0.00522951 -0.02169135\n",
      "  0.00078456  0.00334648  0.01690663 -0.004741   -0.00815679 -0.03752673\n",
      " -0.04035764 -0.03967198 -0.03425597  0.00761341  0.02525948 -0.01027475\n",
      " -0.03692751  0.0161031 ]\n",
      "\n",
      "The encoding for  19 word in 2 document is : \n",
      " [ 0.04810199 -0.01954322  0.02267549 -0.0190431   0.00592224 -0.03582469\n",
      " -0.01204263 -0.0289861   0.04736764 -0.00389193 -0.03035182 -0.03654723\n",
      "  0.00274939  0.03037332 -0.01953874 -0.02364304 -0.02952966  0.03752046\n",
      "  0.01621722  0.01881447  0.00208714  0.00967979  0.01772716 -0.01224451\n",
      "  0.0217386   0.03176797 -0.03254638 -0.02054789  0.03720963  0.02631212\n",
      "  0.03983643 -0.00334216]\n",
      "\n",
      "The encoding for  20 word in 2 document is : \n",
      " [-0.04600637 -0.03854507 -0.00856517  0.0368642  -0.00947436 -0.03091897\n",
      "  0.00809807  0.02139205 -0.00417914  0.04084871  0.01923381 -0.0164543\n",
      "  0.02473413  0.02472522 -0.02054058 -0.01419707  0.04845628 -0.01025124\n",
      "  0.03919523  0.03954797 -0.01849803  0.04023978  0.0099985   0.02796542\n",
      "  0.03898957 -0.03943615  0.0136792  -0.03593145 -0.00365432 -0.03494291\n",
      "  0.0388667   0.0113188 ]\n"
     ]
    }
   ],
   "source": [
    "#copying the embeddings for first 2 rows and output the encoding for each word of the 2 rows \n",
    "embed_sample = embeddings[0:2]\n",
    "print(\"Shape of sample : \",embed_sample.shape)\n",
    "for i,doc in enumerate(embed_sample):\n",
    "    for j,word in enumerate(doc):\n",
    "        print()\n",
    "        print(\"The encoding for \",j+1,\"word\",\"in\",i+1,\"document is : \\n\",word)"
   ]
  },
  {
   "cell_type": "markdown",
   "metadata": {
    "colab_type": "text",
    "id": "Xk_ekkx-KcX6"
   },
   "source": [
    "## Build LSTM classification Model"
   ]
  },
  {
   "cell_type": "markdown",
   "metadata": {
    "colab_type": "text",
    "id": "rj6aGMOjEnHa"
   },
   "source": [
    "#### Simple LSTM classification Model"
   ]
  },
  {
   "cell_type": "code",
   "execution_count": 17,
   "metadata": {
    "colab": {
     "base_uri": "https://localhost:8080/",
     "height": 1000
    },
    "colab_type": "code",
    "id": "aoCrDhwyLBAy",
    "outputId": "3c274076-5a51-4027-887b-d5900b7e3bd0"
   },
   "outputs": [
    {
     "name": "stdout",
     "output_type": "stream",
     "text": [
      "Model: \"sequential\"\n",
      "_________________________________________________________________\n",
      "Layer (type)                 Output Shape              Param #   \n",
      "=================================================================\n",
      "embedding (Embedding)        (None, 20, 32)            320000    \n",
      "_________________________________________________________________\n",
      "lstm (LSTM)                  (None, 128)               82432     \n",
      "_________________________________________________________________\n",
      "dense (Dense)                (None, 1)                 129       \n",
      "=================================================================\n",
      "Total params: 402,561\n",
      "Trainable params: 402,561\n",
      "Non-trainable params: 0\n",
      "_________________________________________________________________\n",
      "None\n",
      "Epoch 1/30\n",
      "250/250 - 16s - loss: 0.6045 - accuracy: 0.6574 - val_loss: 0.5640 - val_accuracy: 0.6988\n",
      "Epoch 2/30\n",
      "250/250 - 16s - loss: 0.4800 - accuracy: 0.7677 - val_loss: 0.5884 - val_accuracy: 0.6939\n",
      "Epoch 3/30\n",
      "250/250 - 15s - loss: 0.4267 - accuracy: 0.7999 - val_loss: 0.6000 - val_accuracy: 0.6912\n",
      "Epoch 4/30\n",
      "250/250 - 16s - loss: 0.3814 - accuracy: 0.8274 - val_loss: 0.6558 - val_accuracy: 0.6840\n",
      "Epoch 5/30\n",
      "250/250 - 16s - loss: 0.3266 - accuracy: 0.8540 - val_loss: 0.7227 - val_accuracy: 0.6762\n",
      "Epoch 6/30\n",
      "250/250 - 16s - loss: 0.2727 - accuracy: 0.8808 - val_loss: 0.8452 - val_accuracy: 0.6676\n",
      "Epoch 7/30\n",
      "250/250 - 16s - loss: 0.2212 - accuracy: 0.9050 - val_loss: 0.9821 - val_accuracy: 0.6526\n",
      "Epoch 8/30\n",
      "250/250 - 16s - loss: 0.1817 - accuracy: 0.9216 - val_loss: 1.1631 - val_accuracy: 0.6507\n",
      "Epoch 9/30\n",
      "250/250 - 16s - loss: 0.1513 - accuracy: 0.9380 - val_loss: 1.3114 - val_accuracy: 0.6546\n",
      "Epoch 10/30\n",
      "250/250 - 16s - loss: 0.1284 - accuracy: 0.9475 - val_loss: 1.4312 - val_accuracy: 0.6543\n",
      "Epoch 11/30\n",
      "250/250 - 15s - loss: 0.1063 - accuracy: 0.9578 - val_loss: 1.6067 - val_accuracy: 0.6509\n",
      "Epoch 12/30\n",
      "250/250 - 16s - loss: 0.0883 - accuracy: 0.9653 - val_loss: 1.8371 - val_accuracy: 0.6474\n",
      "Epoch 13/30\n",
      "250/250 - 16s - loss: 0.0724 - accuracy: 0.9723 - val_loss: 2.0404 - val_accuracy: 0.6488\n",
      "Epoch 14/30\n",
      "250/250 - 16s - loss: 0.0606 - accuracy: 0.9778 - val_loss: 2.1143 - val_accuracy: 0.6510\n",
      "Epoch 15/30\n",
      "250/250 - 16s - loss: 0.0525 - accuracy: 0.9809 - val_loss: 2.5076 - val_accuracy: 0.6491\n",
      "Epoch 16/30\n",
      "250/250 - 16s - loss: 0.0549 - accuracy: 0.9807 - val_loss: 2.0901 - val_accuracy: 0.6454\n",
      "Epoch 17/30\n",
      "250/250 - 16s - loss: 0.0399 - accuracy: 0.9867 - val_loss: 2.3815 - val_accuracy: 0.6488\n",
      "Epoch 18/30\n",
      "250/250 - 16s - loss: 0.0292 - accuracy: 0.9898 - val_loss: 2.6720 - val_accuracy: 0.6377\n",
      "Epoch 19/30\n",
      "250/250 - 16s - loss: 0.0227 - accuracy: 0.9933 - val_loss: 2.8538 - val_accuracy: 0.6501\n",
      "Epoch 20/30\n",
      "250/250 - 16s - loss: 0.0244 - accuracy: 0.9920 - val_loss: 2.4677 - val_accuracy: 0.6490\n",
      "Epoch 21/30\n",
      "250/250 - 16s - loss: 0.0207 - accuracy: 0.9934 - val_loss: 2.8835 - val_accuracy: 0.6430\n",
      "Epoch 22/30\n",
      "250/250 - 15s - loss: 0.0202 - accuracy: 0.9936 - val_loss: 2.7511 - val_accuracy: 0.6380\n",
      "Epoch 23/30\n",
      "250/250 - 15s - loss: 0.0143 - accuracy: 0.9953 - val_loss: 3.0271 - val_accuracy: 0.6450\n",
      "Epoch 24/30\n",
      "250/250 - 15s - loss: 0.0202 - accuracy: 0.9933 - val_loss: 2.9637 - val_accuracy: 0.6447\n",
      "Epoch 25/30\n",
      "250/250 - 15s - loss: 0.0160 - accuracy: 0.9943 - val_loss: 2.8856 - val_accuracy: 0.6456\n",
      "Epoch 26/30\n",
      "250/250 - 15s - loss: 0.0113 - accuracy: 0.9962 - val_loss: 3.0743 - val_accuracy: 0.6478\n",
      "Epoch 27/30\n",
      "250/250 - 15s - loss: 0.0103 - accuracy: 0.9971 - val_loss: 3.0834 - val_accuracy: 0.6493\n",
      "Epoch 28/30\n",
      "250/250 - 16s - loss: 0.0081 - accuracy: 0.9975 - val_loss: 3.2332 - val_accuracy: 0.6457\n",
      "Epoch 29/30\n",
      "250/250 - 16s - loss: 0.0057 - accuracy: 0.9986 - val_loss: 3.3376 - val_accuracy: 0.6453\n",
      "Epoch 30/30\n",
      "250/250 - 16s - loss: 0.0053 - accuracy: 0.9986 - val_loss: 3.4933 - val_accuracy: 0.6479\n",
      "\n",
      "Model fit completed in 470.02 seconds\n",
      "Test Accuracy  :0.648\n"
     ]
    },
    {
     "data": {
      "image/png": "[encoded data removed]",
      "text/plain": [
       "<Figure size 1080x1800 with 2 Axes>"
      ]
     },
     "metadata": {
      "tags": []
     },
     "output_type": "display_data"
    }
   ],
   "source": [
    "#setting model parameters\n",
    "EPOCHS = 30\n",
    "BATCH_SIZE = 100\n",
    "lstm_out = 128\n",
    "optimizer = Adam(learning_rate=1e-3, beta_1=0.9, beta_2=0.999, epsilon=None, amsgrad=True)\n",
    "loss = 'binary_crossentropy'\n",
    "\n",
    "#defining model - Simple LSTM\n",
    "clear_session()\n",
    "\n",
    "np.random.seed(seed)\n",
    "random.set_seed(seed)\n",
    "\n",
    "model = Sequential() \n",
    "model.add(Embedding(input_dim=input_dim,output_dim=output_dim,input_length=input_length))\n",
    "model.add(LSTM(lstm_out)) \n",
    "model.add(Dense(1, activation='sigmoid'))\n",
    "\n",
    "model.compile(loss=loss,optimizer=optimizer, metrics=['accuracy']) \n",
    "\n",
    "print(model.summary()) \n",
    "\n",
    "#fitting model - Simple LSTM\n",
    "start_time=time.time()\n",
    "\n",
    "model.fit(X_train, y_train,validation_data=(X_test,y_test),shuffle=True,epochs=EPOCHS,batch_size=BATCH_SIZE,verbose=2)\n",
    "\n",
    "et=round(time.time()-start_time,2)\n",
    "print()\n",
    "print('Model fit completed in',et, 'seconds')\n",
    "\n",
    "# printing the graph to visualize the loss and accuracy movement in training and test epoch runs\n",
    "train_loss=val_loss=train_acc=val_acc=None\n",
    "train_loss = model.history.history['loss']\n",
    "val_loss   = model.history.history['val_loss']\n",
    "train_acc  = model.history.history['accuracy']\n",
    "val_acc    = model.history.history['val_accuracy']\n",
    "\n",
    "figure_obj = plt.figure(figsize = (15,25))\n",
    "\n",
    "epochs = range(0, len(train_loss))\n",
    "ax1 = figure_obj.add_subplot(3,2,1)   \n",
    "ax1.plot(epochs, train_loss, label='Training_loss', color = 'orange')\n",
    "ax1.plot(epochs, val_loss, label='Validation_loss', color = 'blue')\n",
    "ax1.legend(loc='best')\n",
    "ax1.set_xlabel(\"Epochs\")\n",
    "ax1.set_ylabel(\"Loss\")\n",
    "ax1.title.set_text('Model Loss')\n",
    "\n",
    "ax2 = figure_obj.add_subplot(3,2,2)\n",
    "ax2.plot(epochs, train_acc, label='Training_Accuracy', color = 'orange')\n",
    "ax2.plot(epochs, val_acc, label='Validation_Accuracy', color = 'blue')\n",
    "ax2.legend(loc='best')\n",
    "ax2.set_xlabel(\"Epochs\")\n",
    "ax2.set_ylabel(\"Accuracy\")\n",
    "ax2.title.set_text('Model Accuracy') \n",
    "\n",
    "#evaluating model - Simple LSTM\n",
    "score, acc = model.evaluate(X_test, y_test,batch_size=BATCH_SIZE,verbose=0)\n",
    "print('Test Accuracy  :%0.3f' %(acc))"
   ]
  },
  {
   "cell_type": "markdown",
   "metadata": {
    "colab_type": "text",
    "id": "OrU_xC18UGsN"
   },
   "source": [
    "1.   The model is performing extremely well on training set (with loss of 0.005 and accuracy of 0.99)\n",
    "2.   However the performance on validation (test data) is very poor. The validation loss is only going up with validation accuracy going down.\n",
    "1.   Test validation accuracy is at 64.8% and this clearly shows the model is overfitting and needs to be regularized."
   ]
  },
  {
   "cell_type": "markdown",
   "metadata": {
    "colab_type": "text",
    "id": "a5k-iGAXEzc8"
   },
   "source": [
    "#### Bi-directional LSTM classification Model"
   ]
  },
  {
   "cell_type": "code",
   "execution_count": 18,
   "metadata": {
    "colab": {
     "base_uri": "https://localhost:8080/",
     "height": 1000
    },
    "colab_type": "code",
    "id": "OX2QzNx6F4qy",
    "outputId": "c0565fee-b1b8-44c3-8a7e-db830ef82e0c"
   },
   "outputs": [
    {
     "name": "stdout",
     "output_type": "stream",
     "text": [
      "Model: \"sequential\"\n",
      "_________________________________________________________________\n",
      "Layer (type)                 Output Shape              Param #   \n",
      "=================================================================\n",
      "embedding (Embedding)        (None, 20, 32)            320000    \n",
      "_________________________________________________________________\n",
      "bidirectional (Bidirectional (None, 20, 256)           164864    \n",
      "_________________________________________________________________\n",
      "global_max_pooling1d (Global (None, 256)               0         \n",
      "_________________________________________________________________\n",
      "dense (Dense)                (None, 64)                16448     \n",
      "_________________________________________________________________\n",
      "dense_1 (Dense)              (None, 1)                 65        \n",
      "=================================================================\n",
      "Total params: 501,377\n",
      "Trainable params: 501,377\n",
      "Non-trainable params: 0\n",
      "_________________________________________________________________\n",
      "None\n",
      "Epoch 1/30\n",
      "250/250 - 29s - loss: 0.6110 - accuracy: 0.6454 - val_loss: 0.5637 - val_accuracy: 0.7018\n",
      "Epoch 2/30\n",
      "250/250 - 28s - loss: 0.4756 - accuracy: 0.7692 - val_loss: 0.5817 - val_accuracy: 0.6946\n",
      "Epoch 3/30\n",
      "250/250 - 29s - loss: 0.4112 - accuracy: 0.8086 - val_loss: 0.6153 - val_accuracy: 0.6918\n",
      "Epoch 4/30\n",
      "250/250 - 28s - loss: 0.3527 - accuracy: 0.8420 - val_loss: 0.7114 - val_accuracy: 0.6774\n",
      "Epoch 5/30\n",
      "250/250 - 29s - loss: 0.2994 - accuracy: 0.8662 - val_loss: 0.8230 - val_accuracy: 0.6716\n",
      "Epoch 6/30\n",
      "250/250 - 29s - loss: 0.2525 - accuracy: 0.8886 - val_loss: 0.9223 - val_accuracy: 0.6628\n",
      "Epoch 7/30\n",
      "250/250 - 28s - loss: 0.2069 - accuracy: 0.9092 - val_loss: 0.9707 - val_accuracy: 0.6639\n",
      "Epoch 8/30\n",
      "250/250 - 29s - loss: 0.1771 - accuracy: 0.9221 - val_loss: 1.2452 - val_accuracy: 0.6575\n",
      "Epoch 9/30\n",
      "250/250 - 28s - loss: 0.1451 - accuracy: 0.9353 - val_loss: 1.4681 - val_accuracy: 0.6555\n",
      "Epoch 10/30\n",
      "250/250 - 29s - loss: 0.1246 - accuracy: 0.9458 - val_loss: 1.5511 - val_accuracy: 0.6530\n",
      "Epoch 11/30\n",
      "250/250 - 29s - loss: 0.1068 - accuracy: 0.9563 - val_loss: 1.7345 - val_accuracy: 0.6530\n",
      "Epoch 12/30\n",
      "250/250 - 29s - loss: 0.0857 - accuracy: 0.9649 - val_loss: 1.9661 - val_accuracy: 0.6491\n",
      "Epoch 13/30\n",
      "250/250 - 29s - loss: 0.0738 - accuracy: 0.9701 - val_loss: 2.0542 - val_accuracy: 0.6531\n",
      "Epoch 14/30\n",
      "250/250 - 29s - loss: 0.0618 - accuracy: 0.9757 - val_loss: 2.0902 - val_accuracy: 0.6446\n",
      "Epoch 15/30\n",
      "250/250 - 29s - loss: 0.0531 - accuracy: 0.9792 - val_loss: 2.2979 - val_accuracy: 0.6473\n",
      "Epoch 16/30\n",
      "250/250 - 29s - loss: 0.0456 - accuracy: 0.9828 - val_loss: 2.4538 - val_accuracy: 0.6428\n",
      "Epoch 17/30\n",
      "250/250 - 29s - loss: 0.0370 - accuracy: 0.9875 - val_loss: 2.6805 - val_accuracy: 0.6482\n",
      "Epoch 18/30\n",
      "250/250 - 29s - loss: 0.0345 - accuracy: 0.9884 - val_loss: 2.7076 - val_accuracy: 0.6465\n",
      "Epoch 19/30\n",
      "250/250 - 29s - loss: 0.0308 - accuracy: 0.9897 - val_loss: 2.8267 - val_accuracy: 0.6487\n",
      "Epoch 20/30\n",
      "250/250 - 29s - loss: 0.0232 - accuracy: 0.9920 - val_loss: 2.9887 - val_accuracy: 0.6490\n",
      "Epoch 21/30\n",
      "250/250 - 29s - loss: 0.0265 - accuracy: 0.9912 - val_loss: 3.1315 - val_accuracy: 0.6510\n",
      "Epoch 22/30\n",
      "250/250 - 29s - loss: 0.0188 - accuracy: 0.9944 - val_loss: 3.3897 - val_accuracy: 0.6531\n",
      "Epoch 23/30\n",
      "250/250 - 29s - loss: 0.0188 - accuracy: 0.9940 - val_loss: 3.2911 - val_accuracy: 0.6475\n",
      "Epoch 24/30\n",
      "250/250 - 29s - loss: 0.0129 - accuracy: 0.9957 - val_loss: 3.4797 - val_accuracy: 0.6525\n",
      "Epoch 25/30\n",
      "250/250 - 29s - loss: 0.0098 - accuracy: 0.9967 - val_loss: 3.6712 - val_accuracy: 0.6513\n",
      "Epoch 26/30\n",
      "250/250 - 29s - loss: 0.0142 - accuracy: 0.9956 - val_loss: 3.4369 - val_accuracy: 0.6467\n",
      "Epoch 27/30\n",
      "250/250 - 29s - loss: 0.0115 - accuracy: 0.9962 - val_loss: 3.6434 - val_accuracy: 0.6510\n",
      "Epoch 28/30\n",
      "250/250 - 28s - loss: 0.0112 - accuracy: 0.9966 - val_loss: 3.7010 - val_accuracy: 0.6544\n",
      "Epoch 29/30\n",
      "250/250 - 28s - loss: 0.0073 - accuracy: 0.9980 - val_loss: 3.6992 - val_accuracy: 0.6464\n",
      "Epoch 30/30\n",
      "250/250 - 29s - loss: 0.0063 - accuracy: 0.9984 - val_loss: 3.8585 - val_accuracy: 0.6546\n",
      "\n",
      "Model fit completed in 865.24 seconds\n",
      "Test Accuracy  :0.655\n"
     ]
    },
    {
     "data": {
      "image/png": "[encoded data removed]",
      "text/plain": [
       "<Figure size 1080x1800 with 2 Axes>"
      ]
     },
     "metadata": {
      "tags": []
     },
     "output_type": "display_data"
    }
   ],
   "source": [
    "#setting model parameters\n",
    "EPOCHS = 30\n",
    "BATCH_SIZE = 100\n",
    "lstm_out = 128\n",
    "optimizer = Adam(learning_rate=1e-3, beta_1=0.9, beta_2=0.999, epsilon=None, amsgrad=True)\n",
    "loss = 'binary_crossentropy'\n",
    "\n",
    "#defining model - Bidirectional LSTM \n",
    "clear_session()\n",
    "\n",
    "np.random.seed(seed)\n",
    "random.set_seed(seed)\n",
    "\n",
    "model = Sequential() \n",
    "model.add(Embedding(input_dim=input_dim,output_dim=output_dim,input_length=input_length))\n",
    "model.add(Bidirectional(LSTM(lstm_out, return_sequences=True)))\n",
    "model.add(GlobalMaxPool1D())\n",
    "model.add(Dense(64, activation='relu'))\n",
    "model.add(Dense(1, activation='sigmoid')) \n",
    "\n",
    "model.compile(loss=loss,optimizer=optimizer, metrics=['accuracy']) \n",
    "\n",
    "print(model.summary())\n",
    "\n",
    "#fitting the model - Bidirectional LSTM \n",
    "start_time=time.time()\n",
    "\n",
    "model.fit(X_train, y_train,validation_data=(X_test,y_test),shuffle=True,epochs=EPOCHS,batch_size=BATCH_SIZE,verbose=2)\n",
    "\n",
    "et=round(time.time()-start_time,2)\n",
    "print()\n",
    "print('Model fit completed in',et, 'seconds')\n",
    "\n",
    "# printing the graph to visualize the loss and accuracy movement in training and test epoch runs\n",
    "train_loss=val_loss=train_acc=val_acc=None\n",
    "train_loss = model.history.history['loss']\n",
    "val_loss   = model.history.history['val_loss']\n",
    "train_acc  = model.history.history['accuracy']\n",
    "val_acc    = model.history.history['val_accuracy']\n",
    "\n",
    "figure_obj = plt.figure(figsize = (15,25))\n",
    "\n",
    "epochs = range(0, len(train_loss))\n",
    "ax1 = figure_obj.add_subplot(3,2,1)   \n",
    "ax1.plot(epochs, train_loss, label='Training_loss', color = 'orange')\n",
    "ax1.plot(epochs, val_loss, label='Validation_loss', color = 'blue')\n",
    "ax1.legend(loc='best')\n",
    "ax1.set_xlabel(\"Epochs\")\n",
    "ax1.set_ylabel(\"Loss\")\n",
    "ax1.title.set_text('Model Loss')\n",
    "\n",
    "ax2 = figure_obj.add_subplot(3,2,2)\n",
    "ax2.plot(epochs, train_acc, label='Training_Accuracy', color = 'orange')\n",
    "ax2.plot(epochs, val_acc, label='Validation_Accuracy', color = 'blue')\n",
    "ax2.legend(loc='best')\n",
    "ax2.set_xlabel(\"Epochs\")\n",
    "ax2.set_ylabel(\"Accuracy\")\n",
    "ax2.title.set_text('Model Accuracy')  \n",
    "\n",
    "#evaluating the model - Bidirectional LSTM \n",
    "score, acc = model.evaluate(X_test, y_test,batch_size=BATCH_SIZE,verbose=0)\n",
    "print('Test Accuracy  :%0.3f' %(acc))"
   ]
  },
  {
   "cell_type": "markdown",
   "metadata": {
    "colab_type": "text",
    "id": "FqO_MD9JTR-o"
   },
   "source": [
    "1.   The model is performing extremely well on training set (with loss of 0.006 and accuracy of 0.99)\n",
    "2.   However the performance on validation (test data) is very poor. The validation loss is only going up with validation accuracy going down.\n",
    "1.   Test validation accuracy is at 65.5% and this clearly shows the model is overfitting and needs to be regularized.\n",
    "1.   Since the performance is equally good in simple LSTM and since this is 'many to one' type of problem, bi-directional LSTM may not be appropriate for this problem statement.\n",
    "2.   Hence the simple LSTM model is taken further for regualization in further steps.\n",
    "1.   Regualization is done using dropouts and l2 regularization values.\n",
    "2.   Callback is implemented with early stopping based on validation loss and modelcheckpoint based on validation accuracy.\n"
   ]
  },
  {
   "cell_type": "markdown",
   "metadata": {
    "colab_type": "text",
    "id": "nDgcY2DAE7zl"
   },
   "source": [
    "#### Simple LSTM classification Model - with Regularization"
   ]
  },
  {
   "cell_type": "code",
   "execution_count": 19,
   "metadata": {
    "colab": {
     "base_uri": "https://localhost:8080/",
     "height": 1000
    },
    "colab_type": "code",
    "id": "Mnwuk1HsfFIQ",
    "outputId": "518ade88-275f-4abc-f30c-7314746b897a"
   },
   "outputs": [
    {
     "name": "stdout",
     "output_type": "stream",
     "text": [
      "Model: \"sequential\"\n",
      "_________________________________________________________________\n",
      "Layer (type)                 Output Shape              Param #   \n",
      "=================================================================\n",
      "embedding (Embedding)        (None, 20, 32)            320000    \n",
      "_________________________________________________________________\n",
      "spatial_dropout1d (SpatialDr (None, 20, 32)            0         \n",
      "_________________________________________________________________\n",
      "lstm (LSTM)                  (None, 128)               82432     \n",
      "_________________________________________________________________\n",
      "dense (Dense)                (None, 1)                 129       \n",
      "=================================================================\n",
      "Total params: 402,561\n",
      "Trainable params: 402,561\n",
      "Non-trainable params: 0\n",
      "_________________________________________________________________\n",
      "None\n",
      "Epoch 1/50\n",
      "\n",
      "Epoch 00001: val_accuracy improved from -inf to 0.51888, saving model to myNLPmodelwt.h5\n",
      "250/250 - 20s - loss: 1.8987 - accuracy: 0.5197 - val_loss: 1.4385 - val_accuracy: 0.5189 - lr: 0.0010\n",
      "Epoch 2/50\n",
      "\n",
      "Epoch 00002: val_accuracy improved from 0.51888 to 0.70076, saving model to myNLPmodelwt.h5\n",
      "250/250 - 20s - loss: 1.1760 - accuracy: 0.6900 - val_loss: 1.0013 - val_accuracy: 0.7008 - lr: 0.0010\n",
      "Epoch 3/50\n",
      "\n",
      "Epoch 00003: val_accuracy improved from 0.70076 to 0.70620, saving model to myNLPmodelwt.h5\n",
      "250/250 - 20s - loss: 0.8254 - accuracy: 0.7620 - val_loss: 0.7989 - val_accuracy: 0.7062 - lr: 0.0010\n",
      "Epoch 4/50\n",
      "\n",
      "Epoch 00004: val_accuracy did not improve from 0.70620\n",
      "250/250 - 20s - loss: 0.6412 - accuracy: 0.7856 - val_loss: 0.7030 - val_accuracy: 0.6979 - lr: 0.0010\n",
      "Epoch 5/50\n",
      "\n",
      "Epoch 00005: val_accuracy did not improve from 0.70620\n",
      "250/250 - 20s - loss: 0.5475 - accuracy: 0.7982 - val_loss: 0.6823 - val_accuracy: 0.6987 - lr: 0.0010\n",
      "Epoch 6/50\n",
      "\n",
      "Epoch 00006: val_accuracy did not improve from 0.70620\n",
      "250/250 - 20s - loss: 0.4924 - accuracy: 0.8087 - val_loss: 0.6675 - val_accuracy: 0.6957 - lr: 0.0010\n",
      "Epoch 7/50\n",
      "\n",
      "Epoch 00007: val_accuracy did not improve from 0.70620\n",
      "250/250 - 20s - loss: 0.4487 - accuracy: 0.8301 - val_loss: 0.6865 - val_accuracy: 0.6943 - lr: 1.0000e-04\n",
      "Epoch 8/50\n",
      "\n",
      "Epoch 00008: val_accuracy did not improve from 0.70620\n",
      "250/250 - 20s - loss: 0.4413 - accuracy: 0.8330 - val_loss: 0.6859 - val_accuracy: 0.6945 - lr: 1.0000e-04\n",
      "Epoch 9/50\n",
      "\n",
      "Epoch 00009: val_accuracy did not improve from 0.70620\n",
      "250/250 - 20s - loss: 0.4402 - accuracy: 0.8336 - val_loss: 0.7031 - val_accuracy: 0.6942 - lr: 1.0000e-04\n",
      "Epoch 10/50\n",
      "\n",
      "Epoch 00010: val_accuracy did not improve from 0.70620\n",
      "250/250 - 20s - loss: 0.4332 - accuracy: 0.8364 - val_loss: 0.7005 - val_accuracy: 0.6947 - lr: 1.0000e-05\n",
      "Epoch 11/50\n",
      "\n",
      "Epoch 00011: val_accuracy did not improve from 0.70620\n",
      "250/250 - 20s - loss: 0.4340 - accuracy: 0.8368 - val_loss: 0.7003 - val_accuracy: 0.6944 - lr: 1.0000e-05\n",
      "\n",
      "Model fit completed in 221.48 seconds\n"
     ]
    },
    {
     "data": {
      "image/png": "[encoded data removed]",
      "text/plain": [
       "<Figure size 1080x1800 with 2 Axes>"
      ]
     },
     "metadata": {
      "tags": []
     },
     "output_type": "display_data"
    }
   ],
   "source": [
    "#setting model parameters\n",
    "EPOCHS = 50\n",
    "BATCH_SIZE = 100\n",
    "lstm_out = 128\n",
    "PATIENCE = 5\n",
    "FILENAME='myNLPmodelwt.h5'\n",
    "optimizer = Adam(learning_rate=1e-3, beta_1=0.9, beta_2=0.999, epsilon=None, amsgrad=True)\n",
    "loss = 'binary_crossentropy'\n",
    "checkpoint = ModelCheckpoint(FILENAME, monitor=\"val_accuracy\", verbose=1, save_best_only=True,save_weights_only=True, mode=\"max\", save_freq='epoch')\n",
    "stop = EarlyStopping(monitor=\"val_loss\", patience=PATIENCE, mode=\"min\",min_delta=.01)\n",
    "reduce_lr = ReduceLROnPlateau(monitor=\"val_accuracy\", factor=0.1, patience=3, min_lr=1e-6, verbose=0, mode=\"max\")\n",
    "\n",
    "#defining model - Simple LSTM with regualization (using Dropout and l2 regularization)\n",
    "clear_session()\n",
    "\n",
    "np.random.seed(seed)\n",
    "random.set_seed(seed)\n",
    "\n",
    "model = Sequential() \n",
    "model.add(Embedding(input_dim=input_dim,output_dim=output_dim,input_length=input_length))\n",
    "model.add(SpatialDropout1D(0.4))\n",
    "model.add(LSTM(lstm_out,dropout=0.2, recurrent_dropout=0.2,kernel_regularizer=l2(0.01), recurrent_regularizer=l2(0.01), bias_regularizer=l2(0.01)))\n",
    "model.add(Dense(1, activation='sigmoid')) \n",
    "\n",
    "model.compile(loss=loss,optimizer=optimizer, metrics=['accuracy'])\n",
    "\n",
    "print(model.summary())\n",
    "\n",
    "#fitting the model - with callback enabled\n",
    "start_time=time.time()\n",
    "\n",
    "model.fit(X_train, y_train,validation_data=(X_test,y_test),shuffle=True,epochs=EPOCHS,batch_size=BATCH_SIZE,verbose=2,callbacks=[stop,checkpoint,reduce_lr])\n",
    "\n",
    "et=round(time.time()-start_time,2)\n",
    "print()\n",
    "print('Model fit completed in',et, 'seconds')\n",
    "\n",
    "# printing the graph to visualize the loss and accuracy movement in training and test epoch runs\n",
    "train_loss=val_loss=train_acc=val_acc=None\n",
    "train_loss = model.history.history['loss']\n",
    "val_loss   = model.history.history['val_loss']\n",
    "train_acc  = model.history.history['accuracy']\n",
    "val_acc    = model.history.history['val_accuracy']\n",
    "\n",
    "figure_obj = plt.figure(figsize = (15,25))\n",
    "\n",
    "epochs = range(0, len(train_loss))\n",
    "ax1 = figure_obj.add_subplot(3,2,1)   \n",
    "ax1.plot(epochs, train_loss, label='Training_loss', color = 'orange')\n",
    "ax1.plot(epochs, val_loss, label='Validation_loss', color = 'blue')\n",
    "ax1.legend(loc='best')\n",
    "ax1.set_xlabel(\"Epochs\")\n",
    "ax1.set_ylabel(\"Loss\")\n",
    "ax1.title.set_text('Model Loss')\n",
    "\n",
    "ax2 = figure_obj.add_subplot(3,2,2)\n",
    "ax2.plot(epochs, train_acc, label='Training_Accuracy', color = 'orange')\n",
    "ax2.plot(epochs, val_acc, label='Validation_Accuracy', color = 'blue')\n",
    "ax2.legend(loc='best')\n",
    "ax2.set_xlabel(\"Epochs\")\n",
    "ax2.set_ylabel(\"Accuracy\")\n",
    "ax2.title.set_text('Model Accuracy') "
   ]
  },
  {
   "cell_type": "markdown",
   "metadata": {
    "colab_type": "text",
    "id": "qqNg241Abu9Y"
   },
   "source": [
    "1.   The validation loss and accuracy shows movement in tandem with training initially, though beyond certain epoch, the validation accuracy does not show improvement.\n",
    "2.   The optimal model is at epoch 3 where training accuracy is at 76% and validation accuracy is at 70.6%.\n",
    "1.   While from regularization standpoint, the model has clearly avoided overfitting, the overall validation accuracy is showing only improvement from 65% to 71%.\n",
    "2.   Further tuning may be possible by improving the word length considered for model ( only 20 words considered), embedding length and tweaking dropout / l2 values etc.\n",
    "\n",
    "\n",
    "\n"
   ]
  },
  {
   "cell_type": "markdown",
   "metadata": {
    "colab_type": "text",
    "id": "N94pLnDSil_l"
   },
   "source": [
    "## Evaluate LSTM classification Model"
   ]
  },
  {
   "cell_type": "code",
   "execution_count": 20,
   "metadata": {
    "colab": {
     "base_uri": "https://localhost:8080/",
     "height": 34
    },
    "colab_type": "code",
    "id": "pA-gHfCyXOyS",
    "outputId": "6cb7d34c-7d8f-42dc-9da7-80b442ea5635"
   },
   "outputs": [
    {
     "name": "stdout",
     "output_type": "stream",
     "text": [
      "Test Accuracy  :0.706\n"
     ]
    }
   ],
   "source": [
    "# evaluating the model.\n",
    "model.load_weights(FILENAME)\n",
    "score, acc = model.evaluate(X_test, y_test,batch_size=BATCH_SIZE,verbose=0)\n",
    "print('Test Accuracy  :%0.3f' %(acc))"
   ]
  },
  {
   "cell_type": "code",
   "execution_count": 21,
   "metadata": {
    "colab": {
     "base_uri": "https://localhost:8080/",
     "height": 119
    },
    "colab_type": "code",
    "id": "IfkRJBVit4bM",
    "outputId": "0a99709e-4c7a-4b18-cde4-55064fba3dc6"
   },
   "outputs": [
    {
     "name": "stdout",
     "output_type": "stream",
     "text": [
      "Prediction before applying threshold:\n",
      "[0.71401227 0.6551046  0.70642096 0.39724535 0.61937827 0.5239931\n",
      " 0.50926244 0.66429895 0.2715905  0.5542374 ]\n",
      "\n",
      "Prediction after applying threshold:\n",
      "[1 1 1 0 1 1 1 1 0 1]\n"
     ]
    }
   ],
   "source": [
    "# getting prediction values for X_test and see the results\n",
    "y_pred = model.predict(X_test, verbose=0).reshape(-1)\n",
    "print('Prediction before applying threshold:')\n",
    "print(y_pred[0:10],end='\\n\\n')\n",
    "\n",
    "# setting threshold values and getting the transformed prediction output results\n",
    "y_predict = (y_pred>0.5).astype(int)\n",
    "print('Prediction after applying threshold:')\n",
    "print(y_predict[0:10])"
   ]
  },
  {
   "cell_type": "code",
   "execution_count": 22,
   "metadata": {
    "colab": {
     "base_uri": "https://localhost:8080/",
     "height": 306
    },
    "colab_type": "code",
    "id": "hBiAOHq1yljG",
    "outputId": "c6a7f658-697b-481e-8a88-14bfa05a6a88"
   },
   "outputs": [
    {
     "name": "stdout",
     "output_type": "stream",
     "text": [
      "Test Accuracy :0.706\n",
      "Test Specificity :0.742\n",
      "\n",
      "Classification Report:\n",
      "              precision    recall  f1-score   support\n",
      "\n",
      "           0       0.72      0.67      0.70     12500\n",
      "           1       0.69      0.74      0.72     12500\n",
      "\n",
      "    accuracy                           0.71     25000\n",
      "   macro avg       0.71      0.71      0.71     25000\n",
      "weighted avg       0.71      0.71      0.71     25000\n",
      "\n",
      "\n",
      "Confusion Matrix:\n",
      "[[8378 4122]\n",
      " [3223 9277]]\n"
     ]
    }
   ],
   "source": [
    "# evaluating the model (using sklearn metrics)\n",
    "accuracy_score = metrics.accuracy_score(y_test,y_predict)\n",
    "recall_score = metrics.recall_score(y_test,y_predict,labels=None,pos_label=1,average=None,sample_weight=None)\n",
    "print('Test Accuracy :%0.3f' %(accuracy_score))\n",
    "print('Test Specificity :%0.3f' %(recall_score[1]),end='\\n\\n')\n",
    "\n",
    "print('Classification Report:')\n",
    "print(metrics.classification_report(y_test, y_predict),end='\\n\\n')\n",
    "print('Confusion Matrix:')\n",
    "print(metrics.confusion_matrix(y_test,y_predict))"
   ]
  },
  {
   "cell_type": "markdown",
   "metadata": {
    "colab_type": "text",
    "id": "Z6RXEYvFRIjX"
   },
   "source": [
    "1.   Overall accuracy of the model ( based on test dataset) is 70.6%\n",
    "2.   Specificity of the model ( based on test dataset) is 74.2%"
   ]
  },
  {
   "cell_type": "markdown",
   "metadata": {
    "colab_type": "text",
    "id": "oD2avXZhIky0"
   },
   "source": [
    "## Retrieve the output of each layer in keras for a given single test sample from the trained model "
   ]
  },
  {
   "cell_type": "code",
   "execution_count": 23,
   "metadata": {
    "colab": {
     "base_uri": "https://localhost:8080/",
     "height": 68
    },
    "colab_type": "code",
    "id": "mtyEBNgPN2lQ",
    "outputId": "18f9e64d-edcf-47b7-98ea-81d11c4deb3a"
   },
   "outputs": [
    {
     "name": "stdout",
     "output_type": "stream",
     "text": [
      "X_sample shape: (1, 20)\n",
      "Classification predicted by the model: 1\n",
      "Actual classification: 1\n"
     ]
    }
   ],
   "source": [
    "# copying 1 record from X_test to X_sample to run the prediction and retrive the output of each layers\n",
    "X_sample = X_test[0:1].copy()\n",
    "print('X_sample shape:',X_sample.shape)\n",
    "\n",
    "# running prediction for the sample data and compare with actual values\n",
    "y_sample = model.predict(X_sample, verbose=0).reshape(-1)\n",
    "y_sample = (y_sample>0.5).astype(int)\n",
    "print('Classification predicted by the model:',y_sample[0])\n",
    "print('Actual classification:',y_test[0])"
   ]
  },
  {
   "cell_type": "code",
   "execution_count": 24,
   "metadata": {
    "colab": {
     "base_uri": "https://localhost:8080/",
     "height": 1000
    },
    "colab_type": "code",
    "id": "dEOP3n-x1G4d",
    "outputId": "bd164c04-6c97-4788-ab27-1a0d4e51341b"
   },
   "outputs": [
    {
     "name": "stdout",
     "output_type": "stream",
     "text": [
      "Output of embedding layer\n",
      "Shape: (1, 20, 32)\n",
      "[[[ 2.70271134e-02 -1.11578517e-02 -1.47662940e-03  2.83569675e-02\n",
      "    1.06354719e-02  1.01955165e-03 -3.18031907e-02  2.97275390e-02\n",
      "   -3.75753269e-02 -1.70377409e-03  2.74507403e-02  2.18579695e-02\n",
      "   -7.29780132e-03  4.61342819e-02  2.25497112e-02 -1.27245318e-02\n",
      "    9.79863480e-03  1.12641985e-02 -3.44533026e-02 -2.29869466e-02\n",
      "   -9.59506538e-03  2.56033726e-02  1.16779543e-02  4.09311578e-02\n",
      "   -3.19142677e-02 -1.92820597e-02  2.84445425e-03 -4.85294219e-03\n",
      "   -3.17736454e-02  1.45141431e-03  4.85917274e-03  6.85901847e-03]\n",
      "  [ 1.59812998e-02 -3.27364840e-02  1.36404419e-02 -2.05168687e-02\n",
      "   -9.09050112e-04  1.81358848e-02 -5.91332046e-03 -1.19600631e-02\n",
      "    4.15837429e-02  4.60053831e-02  1.04621062e-02  3.17383893e-02\n",
      "   -7.37014506e-03 -2.78447811e-02  1.25343101e-02 -3.10254525e-02\n",
      "   -4.12877707e-05 -8.72571021e-03 -2.25411244e-02  5.53126149e-02\n",
      "    1.80504825e-02  2.23357999e-03  4.12083603e-02 -2.94928793e-02\n",
      "    6.28023744e-02 -2.04050560e-02 -6.84025045e-03 -2.82628853e-02\n",
      "    1.57739390e-02 -2.46381736e-03 -1.22631630e-02  3.07860225e-02]\n",
      "  [-5.53558916e-02  2.07298039e-03  5.74664352e-03  1.83623563e-02\n",
      "   -7.24640340e-02  1.10049881e-02  2.95434278e-02 -5.31289950e-02\n",
      "    2.34769545e-02 -2.71324906e-02 -5.14025101e-03 -7.22619938e-03\n",
      "    3.11330520e-02 -2.47375946e-02 -1.60295162e-02 -9.07587558e-02\n",
      "   -9.05531738e-03 -1.74343642e-02  8.78056884e-03 -6.52934834e-02\n",
      "    3.75263020e-02 -1.03193605e-02 -3.11435033e-02  7.04918727e-02\n",
      "   -3.99594046e-02 -4.30815332e-02 -1.92765798e-02 -1.00222953e-01\n",
      "   -5.80095164e-02  4.10011634e-02 -5.06925434e-02  3.19061428e-02]\n",
      "  [ 3.65019888e-02  3.83858718e-02 -2.12822631e-02 -3.07673700e-02\n",
      "   -4.87285256e-02 -1.98669862e-02  1.90861449e-02 -1.62697528e-02\n",
      "   -5.48924245e-02 -1.25654060e-02 -1.00565944e-02  4.46715280e-02\n",
      "    2.36293469e-02  3.10193002e-02 -1.41702844e-02 -6.10690974e-02\n",
      "   -2.31509171e-02 -3.57755297e-03  4.36905026e-02 -4.44724858e-02\n",
      "    2.14070939e-02  5.07970266e-02  2.99449108e-04  4.96284962e-02\n",
      "    4.23986986e-02 -3.68357450e-02  3.62142697e-02  6.37966692e-02\n",
      "   -3.47633436e-02 -2.33166069e-02 -1.28824962e-02 -2.66333371e-02]\n",
      "  [ 3.29044648e-02 -4.58830409e-03 -6.58426657e-02  3.74605171e-02\n",
      "   -2.09309738e-02 -1.00250900e-01 -6.88729882e-02 -1.15469797e-02\n",
      "    4.84697483e-02  1.81807093e-02 -1.26928566e-02 -8.11699033e-03\n",
      "   -1.96459033e-02  4.03202474e-02  8.29887297e-03 -1.56317521e-02\n",
      "    3.08720395e-02 -5.15670748e-03  4.12169285e-02  3.11491936e-02\n",
      "   -8.79336149e-03  5.63176582e-03  3.96495452e-03 -2.99686026e-02\n",
      "   -1.92827382e-03 -6.49887994e-02 -3.76312360e-02  2.26661880e-02\n",
      "   -3.36340703e-02 -3.25262807e-02  7.79128075e-03 -2.63103470e-02]\n",
      "  [ 1.24625377e-02  4.78781238e-02 -4.50740233e-02 -6.41909055e-03\n",
      "   -6.17213594e-03 -4.76353467e-02 -3.44524393e-03 -8.39656312e-03\n",
      "   -3.72268967e-02 -4.12600860e-02  3.01493928e-02  1.55302724e-02\n",
      "    7.53585622e-02 -1.15609691e-02 -2.28131626e-04 -1.09964311e-02\n",
      "   -2.90667806e-02  8.42194259e-02 -7.32307322e-03  6.87774718e-02\n",
      "    2.14467701e-02 -1.25018535e-02 -3.30386385e-02  8.17079563e-03\n",
      "    1.36939595e-02  5.04086725e-04  1.47523731e-02 -8.42708349e-02\n",
      "    5.02564646e-02  4.03215401e-02  2.33315281e-04 -5.94956917e-04]\n",
      "  [-2.08417065e-02 -1.73256975e-02 -1.63662359e-02  6.10588826e-02\n",
      "   -6.17385888e-03 -5.25325947e-02  8.80620163e-03 -1.35843400e-02\n",
      "   -1.95742566e-02  2.62579732e-02  3.06671718e-03 -6.54004095e-03\n",
      "    1.51791088e-02 -6.59098988e-03  8.30351189e-03  2.43591447e-03\n",
      "   -3.28768305e-02 -1.01714991e-02 -3.20321172e-02 -1.03259925e-02\n",
      "    2.95042712e-02  1.63613688e-02 -1.42117795e-02 -1.00816321e-02\n",
      "    3.35255340e-02  1.72467381e-02 -1.27739171e-02  1.18736923e-02\n",
      "    3.14210877e-02 -3.67935136e-04 -3.36365774e-02 -3.77113149e-02]\n",
      "  [ 4.97355014e-02 -8.80950037e-03 -3.13499272e-02 -3.97432689e-03\n",
      "    5.77176996e-02 -4.64663133e-02 -5.95140718e-02 -3.65038030e-02\n",
      "    6.55790791e-02  8.04973766e-03 -2.60096565e-02 -1.96873434e-02\n",
      "   -5.34494258e-02 -1.72576923e-02 -5.21878451e-02 -1.28082070e-03\n",
      "    5.82783250e-03  2.22085174e-02  3.83629128e-02  2.39998102e-02\n",
      "   -4.18360867e-02  9.85212508e-04 -1.09215211e-02 -9.80774388e-02\n",
      "   -2.14348752e-02  4.36039306e-02 -3.08177676e-02  1.09048691e-02\n",
      "   -1.84616521e-02 -5.84290363e-02 -1.83762759e-02 -4.17139381e-02]\n",
      "  [-8.49996284e-02 -1.51994964e-02 -9.65983346e-02  3.27987759e-03\n",
      "    7.95552507e-03 -5.65057509e-02 -3.65465507e-02 -4.60286215e-02\n",
      "   -1.54725686e-02  2.53726309e-03 -5.99070964e-03  2.27445294e-03\n",
      "    7.92802125e-02  3.61041836e-02 -4.87595797e-02  6.28319476e-03\n",
      "    1.89506672e-02  1.77526604e-02  4.15187217e-02  9.00055468e-02\n",
      "    2.58977190e-02 -4.82754819e-02 -4.26750407e-02 -7.40917772e-02\n",
      "    5.76802976e-02  2.32783407e-02 -7.04644024e-02  4.75421473e-02\n",
      "   -4.98372018e-02  3.06879804e-02 -3.87209132e-02 -6.15627952e-02]\n",
      "  [ 5.63787408e-02 -3.13689336e-02  3.96683663e-02  4.90301929e-04\n",
      "   -1.03789680e-02  4.55380864e-02  3.96393761e-02  8.04835260e-02\n",
      "   -4.33637202e-02 -1.32186795e-02 -1.39759526e-01 -8.91901553e-03\n",
      "   -6.55599907e-02  1.25042927e-02  9.90939811e-02 -5.85328862e-02\n",
      "   -3.86967021e-03  1.59814190e-02 -1.56621318e-02 -2.66883280e-02\n",
      "    4.07228526e-03  5.53588681e-02  4.62851711e-02  1.08312793e-01\n",
      "    3.26790214e-02  1.55546740e-02 -1.23059582e-02 -7.25389645e-02\n",
      "   -1.42226610e-02 -2.88909562e-02  4.06705178e-02  1.02931596e-01]\n",
      "  [-9.43109021e-02  3.17624537e-03 -1.24607496e-02 -2.08692215e-02\n",
      "   -5.42473756e-02  1.90496650e-02  8.76137428e-03 -3.02891042e-02\n",
      "   -5.16860038e-02 -7.24504516e-02  4.64795008e-02 -9.38897301e-03\n",
      "   -2.25333925e-02 -6.85461611e-02 -3.75220105e-02 -6.37034178e-02\n",
      "    3.33267860e-02 -5.59290461e-02 -1.14597026e-02 -2.05468275e-02\n",
      "   -2.44695488e-02  8.43141135e-03 -7.66299292e-02 -3.28792557e-02\n",
      "   -1.00455806e-02 -2.30831243e-02 -1.29837273e-02  4.04344574e-02\n",
      "    6.27168640e-03  3.04546095e-02  1.36648165e-02 -6.29589781e-02]\n",
      "  [-2.08417065e-02 -1.73256975e-02 -1.63662359e-02  6.10588826e-02\n",
      "   -6.17385888e-03 -5.25325947e-02  8.80620163e-03 -1.35843400e-02\n",
      "   -1.95742566e-02  2.62579732e-02  3.06671718e-03 -6.54004095e-03\n",
      "    1.51791088e-02 -6.59098988e-03  8.30351189e-03  2.43591447e-03\n",
      "   -3.28768305e-02 -1.01714991e-02 -3.20321172e-02 -1.03259925e-02\n",
      "    2.95042712e-02  1.63613688e-02 -1.42117795e-02 -1.00816321e-02\n",
      "    3.35255340e-02  1.72467381e-02 -1.27739171e-02  1.18736923e-02\n",
      "    3.14210877e-02 -3.67935136e-04 -3.36365774e-02 -3.77113149e-02]\n",
      "  [ 1.65267944e-01 -2.06134766e-01  1.40886605e-01  2.19350100e-01\n",
      "    2.01095432e-01  2.41442069e-01  2.05482766e-01  1.94975272e-01\n",
      "   -2.16749668e-01  2.53428727e-01 -2.75779516e-01 -2.42875546e-01\n",
      "   -2.51838773e-01 -2.27539614e-01  2.34130010e-01 -1.49151683e-01\n",
      "    1.87947974e-01  5.80170751e-02 -1.91009343e-01 -2.49022976e-01\n",
      "    2.26360485e-01  1.32521719e-01  1.62707329e-01  2.44920582e-01\n",
      "   -1.90530375e-01  1.93394020e-01  2.08387464e-01 -2.27649778e-01\n",
      "    1.98347270e-01 -1.84457168e-01  2.56690025e-01  1.65774465e-01]\n",
      "  [ 1.54329324e-02 -2.42171902e-02 -8.40669274e-02  1.79800745e-02\n",
      "    4.95043732e-02 -3.09595559e-02  1.86469331e-02  7.88617954e-02\n",
      "   -1.34946695e-02  3.18905935e-02 -3.43452729e-02 -2.59717535e-02\n",
      "    1.12139191e-02  1.03232814e-02  7.90665597e-02  2.64246445e-02\n",
      "    5.64494245e-02  5.15347049e-02 -3.32795316e-03 -5.56619130e-02\n",
      "    7.00948909e-02  1.50061762e-02  5.27173374e-03  3.78987864e-02\n",
      "    2.64456104e-02  5.76200895e-02  1.05519786e-01 -6.52324036e-02\n",
      "   -1.63457508e-03 -6.89374655e-02  1.47711011e-02  7.02842176e-02]\n",
      "  [-2.63425782e-02  3.35306791e-03  7.59223774e-02 -3.99253815e-02\n",
      "   -4.05706018e-02  9.95631679e-04 -1.87904090e-02 -1.14936277e-03\n",
      "   -4.86987468e-04  6.90264925e-02  3.48192337e-03 -8.44425559e-02\n",
      "   -2.98623778e-02 -5.26099913e-02 -5.55512831e-02  1.12170931e-02\n",
      "    9.53171253e-02  5.69678545e-02 -1.49947228e-02 -4.52483781e-02\n",
      "    1.05514210e-02  1.74284689e-02 -1.59567259e-02  5.52684739e-02\n",
      "   -4.87827994e-02 -4.34120633e-02 -2.74843015e-02 -5.49401268e-02\n",
      "    2.68967673e-02 -4.36873212e-02  7.00880191e-04  2.81203482e-02]\n",
      "  [-9.43778306e-02  8.19362402e-02 -4.21321616e-02 -6.87888041e-02\n",
      "   -6.56319689e-03 -7.61676356e-02 -6.17778711e-02 -5.78136481e-02\n",
      "    2.50240844e-02 -4.78697680e-02  5.39973080e-02  4.23478186e-02\n",
      "    7.66208209e-03  5.10574616e-02 -4.32293415e-02 -3.28756236e-02\n",
      "   -5.12446165e-02  9.94902512e-05  1.94739196e-02  7.48914629e-02\n",
      "   -1.03701591e-01 -1.25920966e-01 -1.68256313e-02 -1.02683991e-01\n",
      "    1.09471843e-01 -1.25726938e-01 -3.79011855e-02  2.15015281e-02\n",
      "   -1.37143880e-01  5.42140193e-02 -8.25686008e-03  2.89563313e-02]\n",
      "  [ 5.48199425e-03 -3.25020142e-02 -1.91918612e-02  1.09479008e-02\n",
      "    7.76284635e-02  1.84168126e-02 -4.82982025e-03 -2.78171413e-02\n",
      "   -6.36652019e-03 -3.63052636e-02  1.12064658e-02  4.17540148e-02\n",
      "   -9.98444622e-04  6.45562112e-02  1.10982865e-01 -2.35207342e-02\n",
      "   -1.01652741e-02  8.43182392e-03 -1.83034819e-02  1.94252562e-02\n",
      "    2.28239279e-02  4.80494127e-02  3.58577296e-02 -1.23751108e-02\n",
      "    4.91993017e-02 -9.97248804e-04  2.28341371e-02  2.97964215e-02\n",
      "    3.06269024e-02  7.85424858e-02 -5.17573673e-03  1.91858374e-02]\n",
      "  [ 1.01468666e-02  7.84988776e-02 -3.70907551e-03 -1.03606343e-01\n",
      "   -1.42796207e-02  2.26866752e-02 -4.22948003e-02 -7.02933818e-02\n",
      "   -9.12950095e-03  4.49563824e-02 -9.37544834e-03  3.75731895e-03\n",
      "    6.34970963e-02  1.88319553e-02  1.95698589e-02  1.31628141e-01\n",
      "   -2.16551721e-02 -3.85125447e-03 -1.50343834e-03  4.82329242e-02\n",
      "    1.83889200e-03  2.40606982e-02  7.05926097e-04 -5.08781709e-02\n",
      "    6.84369877e-02 -4.13195901e-02  3.50367092e-02  1.88795645e-02\n",
      "   -5.42903207e-02  6.18976541e-02 -3.95800769e-02  1.16016241e-02]\n",
      "  [ 2.69472208e-02  2.38685980e-02 -2.44190488e-02 -6.07749112e-02\n",
      "    5.52260280e-02  4.24278677e-02 -3.99318011e-03 -1.28211733e-02\n",
      "    1.42626874e-02 -6.77201077e-02  5.21594379e-03  2.63025332e-02\n",
      "    3.25593054e-02 -3.27884145e-02 -1.86405936e-03 -9.01490375e-02\n",
      "   -5.47814742e-02  4.87645417e-02  4.66735894e-03  6.64370880e-02\n",
      "    5.82922995e-03 -3.72582348e-03 -2.84164064e-02  2.78872177e-02\n",
      "   -1.15510914e-02  2.67491397e-03  1.60090048e-02 -6.86911270e-02\n",
      "   -4.61120047e-02 -8.90949368e-03 -4.74180095e-02 -2.34276932e-02]\n",
      "  [ 5.24238944e-02 -1.20240096e-02 -5.42278029e-02 -1.74002107e-02\n",
      "   -4.21279930e-02  1.43431663e-03  2.54300013e-02 -1.43989054e-02\n",
      "   -5.29366024e-02  3.43235657e-02  3.88465114e-02  4.81263697e-02\n",
      "   -4.35146764e-02  6.26769988e-03 -8.20447784e-03 -4.50096689e-02\n",
      "   -4.76083271e-02 -7.67075047e-02 -2.26922855e-02  2.62351520e-02\n",
      "    1.99048799e-02  5.62029295e-02  4.44882810e-02  6.51850086e-03\n",
      "   -3.55594866e-02  4.93679307e-02  2.82103755e-02 -3.23283300e-03\n",
      "   -1.03141293e-02  5.93835935e-02  4.47314009e-02 -3.46578024e-02]]]\n",
      "\n",
      "Output of lstm layer\n",
      "Shape: (1, 128)\n",
      "[[-1.25565212e-02  2.28497516e-02  1.53931594e-02  2.05728095e-02\n",
      "  -4.23198659e-03  1.86230019e-02 -2.72002406e-02  5.55487757e-04\n",
      "  -1.54677276e-02  7.06851762e-03  2.00998615e-02 -1.61473434e-02\n",
      "  -6.61238749e-03 -2.72496752e-02 -2.84359045e-03 -1.14374585e-03\n",
      "   4.72318614e-03  3.56348697e-04 -1.11834630e-02 -4.54389025e-03\n",
      "   1.87322553e-02  3.30509059e-02  1.61415373e-05 -1.91897452e-02\n",
      "   1.46319834e-03  2.13568900e-02  7.98839238e-03 -2.98221074e-02\n",
      "  -7.48157781e-03  6.28993381e-03 -2.32457537e-02  6.96088595e-04\n",
      "  -1.28097637e-02 -3.14178877e-02 -4.01908765e-03 -4.78369510e-03\n",
      "  -7.48231262e-03 -1.11743845e-02 -3.02018016e-03  4.35202237e-04\n",
      "   1.98349189e-02  7.74064381e-03  5.18000964e-03  2.67738160e-02\n",
      "   1.38967903e-03  9.68115695e-04  6.45808596e-03 -1.79072726e-04\n",
      "  -1.38834296e-02  5.78466803e-03 -2.44606640e-02 -2.97378544e-02\n",
      "  -5.79883438e-03 -1.18740462e-02 -1.30948825e-02  3.56912217e-03\n",
      "  -1.53624816e-02  9.85676161e-05 -1.06193041e-02  2.89432649e-02\n",
      "   1.57107413e-02  3.08475699e-02 -1.71181895e-02 -6.18531310e-04\n",
      "   2.68618688e-02 -2.84935551e-04 -6.53931987e-04 -6.77544798e-04\n",
      "  -4.54703579e-03  2.15278715e-02  1.21469470e-03  3.50383185e-02\n",
      "  -1.04603649e-03 -2.69371062e-03 -2.57958546e-02  4.93990432e-04\n",
      "  -4.61663539e-03 -3.10940319e-03 -1.91630628e-02 -2.57335659e-02\n",
      "  -1.89367961e-02  2.41835732e-02 -1.56002808e-02  8.40858184e-03\n",
      "   1.24979559e-02 -2.98871417e-02 -8.71542096e-03 -1.95391700e-02\n",
      "  -9.52292467e-04 -2.13056896e-02 -2.66029462e-02 -4.66198148e-03\n",
      "  -2.58618407e-02  6.17930852e-03 -2.62963101e-02 -3.47226746e-02\n",
      "  -3.06713153e-02  2.47085467e-02 -6.11502491e-03  3.08887176e-02\n",
      "  -1.73109453e-02  2.69114375e-02  3.17010650e-04 -2.67471801e-02\n",
      "  -1.49579793e-02  1.16575284e-04 -5.39232744e-04 -3.52762491e-02\n",
      "  -2.34494302e-02  3.79520990e-02  1.05358870e-03 -3.17108370e-02\n",
      "   2.01799395e-03  4.53715649e-04  1.04791615e-02  1.26792304e-02\n",
      "  -3.14985029e-02 -2.77480446e-02  3.23671591e-03  1.60238761e-02\n",
      "   1.03426585e-03  2.37591304e-02  3.49125825e-02 -1.76609331e-03\n",
      "  -2.35533882e-02  3.38664614e-02  1.88098711e-04  1.77661865e-03]]\n",
      "\n",
      "Output of dense layer\n",
      "Shape: (1, 1)\n",
      "[[0.71401227]]\n",
      "\n"
     ]
    }
   ],
   "source": [
    "# retrieving the output of embedding, lstm and dense layers of the model for the sample record predicted\n",
    "layer_list = ['embedding','lstm','dense']\n",
    "for i in layer_list:\n",
    "  layer_output=model.get_layer(i).output\n",
    "  sample_model=Model(inputs=model.input,outputs=layer_output)\n",
    "  sample_prediction=sample_model.predict(X_sample.reshape(1,20))\n",
    "  print('Output of',i,'layer')\n",
    "  print('Shape:',sample_prediction.shape)\n",
    "  print(sample_prediction)\n",
    "  print()"
   ]
  },
  {
   "cell_type": "markdown",
   "metadata": {
    "colab_type": "text",
    "id": "_lanncvmMNE5"
   },
   "source": [
    " \n",
    "\n",
    "1.   The embedding layer output shows how the input (1 review document/row) is converted to vector of size 20,32 with 20 representing the 20 words of the review and 32 representing the embedding values for each one of these 20 words.\n",
    "2.   The lstm layer output shows the output of 128 lstm units.\n",
    "1.   The output of the dense layer is  compared with threshold set (0.5) and hence .71 is taken as predicted classification label 1. This is the actual label as well for the sample review\n",
    "\n",
    "\n",
    "\n",
    "\n"
   ]
  }
 ],
 "metadata": {
  "colab": {
   "collapsed_sections": [],
   "name": "Project_SeqNLP1.ipynb",
   "provenance": []
  },
  "kernelspec": {
   "display_name": "Python 3",
   "language": "python",
   "name": "python3"
  },
  "language_info": {
   "codemirror_mode": {
    "name": "ipython",
    "version": 3
   },
   "file_extension": ".py",
   "mimetype": "text/x-python",
   "name": "python",
   "nbconvert_exporter": "python",
   "pygments_lexer": "ipython3",
   "version": "3.7.6"
  }
 },
 "nbformat": 4,
 "nbformat_minor": 4
}
